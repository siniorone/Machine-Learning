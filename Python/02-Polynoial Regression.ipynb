{
 "cells": [
  {
   "cell_type": "markdown",
   "id": "ddf1b03b-9d0d-42e9-b122-70f0f8d40c6b",
   "metadata": {},
   "source": [
    "# Polynomial Regression\n",
    "---\n",
    "### Now let's apply simple linear regression to **Portugal**  data and see the result. "
   ]
  },
  {
   "cell_type": "code",
   "execution_count": 19,
   "id": "c6111dd9-8b2a-41f4-9e1b-2a2c0d385519",
   "metadata": {},
   "outputs": [],
   "source": [
    "from sklearn.preprocessing import PolynomialFeatures\n",
    "from sklearn.metrics import r2_score\n",
    "from sklearn import linear_model\n",
    "\n",
    "import matplotlib.pyplot as plt\n",
    "import pandas as pd\n",
    "import pylab as pl\n",
    "import numpy as np\n",
    "%matplotlib inline"
   ]
  },
  {
   "cell_type": "code",
   "execution_count": 20,
   "id": "6cdf4247-e025-4e13-b843-8a3f17b8561b",
   "metadata": {},
   "outputs": [],
   "source": [
    "df=pd.read_csv(\"./dataset/covid_vaccination_vs_death_ratio.csv\")"
   ]
  },
  {
   "cell_type": "code",
   "execution_count": 24,
   "id": "7e8c66b7-8529-48f3-a083-2bee2b1ee8cc",
   "metadata": {},
   "outputs": [
    {
     "name": "stdout",
     "output_type": "stream",
     "text": [
      "Coefficients:  [[-1.14221336]]\n",
      "Intercept:  [78.7351537]\n"
     ]
    },
    {
     "data": {
      "image/png": "[encoded data removed]",
      "text/plain": [
       "<Figure size 432x288 with 1 Axes>"
      ]
     },
     "metadata": {
      "needs_background": "light"
     },
     "output_type": "display_data"
    },
    {
     "name": "stdout",
     "output_type": "stream",
     "text": [
      "Mean absolute error: 44.99\n",
      "Residual sum of squares (MSE): 3593.70\n",
      "R2-score: 0.24\n"
     ]
    }
   ],
   "source": [
    "mydf = df[df.country == \"Portugal\"]\n",
    "\n",
    "regr = linear_model.LinearRegression()\n",
    "train_x = np.asanyarray(mydf[['ratio']])\n",
    "train_y = np.asanyarray(mydf[['New_deaths']])\n",
    "regr.fit (train_x, train_y)\n",
    "# The coefficients\n",
    "print ('Coefficients: ', regr.coef_)\n",
    "print ('Intercept: ',regr.intercept_)\n",
    "\n",
    "\n",
    "plt.scatter(mydf.ratio, mydf.New_deaths,  color='orange')\n",
    "plt.plot(train_x, regr.coef_[0][0]*train_x + regr.intercept_[0], color='red')\n",
    "plt.xlabel(\"Vaccination rate (%) \")\n",
    "plt.ylabel(\"New deaths\")\n",
    "plt.show()\n",
    "\n",
    "test_x = np.asanyarray(mydf[['ratio']])\n",
    "test_y = np.asanyarray(mydf[['New_deaths']])\n",
    "test_y_ = regr.predict(test_x)\n",
    "\n",
    "print(\"Mean absolute error: %.2f\" % np.mean(np.absolute(test_y_ - test_y)))\n",
    "print(\"Residual sum of squares (MSE): %.2f\" % np.mean((test_y_ - test_y) ** 2))\n",
    "print(\"R2-score: %.2f\" % r2_score(test_y , test_y_) )"
   ]
  },
  {
   "cell_type": "code",
   "execution_count": null,
   "id": "753438c7-efab-428e-a9da-463b59c71b60",
   "metadata": {},
   "outputs": [],
   "source": []
  }
 ],
 "metadata": {
  "kernelspec": {
   "display_name": "Python 3 (ipykernel)",
   "language": "python",
   "name": "python3"
  },
  "language_info": {
   "codemirror_mode": {
    "name": "ipython",
    "version": 3
   },
   "file_extension": ".py",
   "mimetype": "text/x-python",
   "name": "python",
   "nbconvert_exporter": "python",
   "pygments_lexer": "ipython3",
   "version": "3.9.7"
  }
 },
 "nbformat": 4,
 "nbformat_minor": 5
}
