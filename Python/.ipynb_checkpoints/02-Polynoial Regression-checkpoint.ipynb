{
 "cells": [
  {
   "cell_type": "markdown",
   "id": "ddf1b03b-9d0d-42e9-b122-70f0f8d40c6b",
   "metadata": {},
   "source": [
    "# Polynomial Regression\n",
    "\n",
    "The goal of this notebook is to study the topic of Polynomial Regression on real-world data and to solve the problem using data science methodology.My name is Sina, I'm new to the data science! and this notebook was built for my personal practice. \n",
    "\n",
    "---\n",
    "We got three different datasets in the previous notebook [[Simple Linear Regression](https://github.com/siniorone/Machine-Learning/blob/main/Python/01-Simple%20Linear%20Regresion.ipynb)], and by merging them, we were able to generate the dataset we needed and apply a simple linear regression model to our data.\n",
    "[[Go to the previous notebook for instructions on how to construct our dataset.](https://github.com/siniorone/Machine-Learning/blob/main/Python/01-Simple%20Linear%20Regresion.ipynb)]\n",
    "Our dependent variable was the ``death toll``, and our dependent variable was the ```vaccination rate```.\n",
    "When we apply the model to data from **Italy**, we get the **R2-score: 0.78**.\n",
    "It appeared that the model was relatively adequate until we applied it to data again from **Portugal** country and found that it lacked the required accuracy;\n",
    "We have saved the data prepared in the previous notebook under the name of ```covid_vaccination_vs_death_ratio‍‍‍‍‍‍.csv```, and now we are reading it through a file. \n",
    "\n",
    "### we will now continue the story. \n",
    "First, let's have a look at the current state of our model using data from Portugal. "
   ]
  },
  {
   "cell_type": "code",
   "execution_count": 1,
   "id": "c6111dd9-8b2a-41f4-9e1b-2a2c0d385519",
   "metadata": {},
   "outputs": [],
   "source": [
    "# Import Skcit-Learn methods we want to use in this notebook\n",
    "from sklearn.preprocessing import PolynomialFeatures\n",
    "from sklearn.metrics import r2_score\n",
    "from sklearn import linear_model\n",
    "# Import useful Libraries\n",
    "import matplotlib.pyplot as plt\n",
    "import pandas as pd\n",
    "import pylab as pl\n",
    "import numpy as np\n",
    "%matplotlib inline"
   ]
  },
  {
   "cell_type": "code",
   "execution_count": 4,
   "id": "6cdf4247-e025-4e13-b843-8a3f17b8561b",
   "metadata": {},
   "outputs": [],
   "source": [
    "# we read the data frame we need using Pandas from csv file \n",
    "df=pd.read_csv(\"./dataset/covid_vaccination_vs_death_ratio.csv\")"
   ]
  },
  {
   "cell_type": "code",
   "execution_count": 17,
   "id": "7e8c66b7-8529-48f3-a083-2bee2b1ee8cc",
   "metadata": {},
   "outputs": [
    {
     "name": "stdout",
     "output_type": "stream",
     "text": [
      "Coefficients: -1.1422133580564595\n",
      "Intercept: 78.73515370381895\n"
     ]
    },
    {
     "data": {
      "image/png": "[encoded data removed]",
      "text/plain": [
       "<Figure size 432x288 with 1 Axes>"
      ]
     },
     "metadata": {
      "needs_background": "light"
     },
     "output_type": "display_data"
    },
    {
     "name": "stdout",
     "output_type": "stream",
     "text": [
      "Mean absolute error: 44.99\n",
      "Residual sum of squares (MSE): 3593.70\n",
      "R2-score: 0.24\n"
     ]
    }
   ],
   "source": [
    "# We put the data from Portugal in the mydf variable .\n",
    "mydf = df[df.country == \"Portugal\"]\n",
    "# Create an object to build a linear regression model from Scikit-Learn Library. \n",
    "regr = linear_model.LinearRegression()\n",
    "# We define training variables via Numpy in arrays .\n",
    "train_x = np.asanyarray(mydf[['ratio']])\n",
    "train_y = np.asanyarray(mydf[['New_deaths']])\n",
    "# Using fit(x, y) method of Scikit-Learn object, we fit the model on the training variables.\n",
    "regr.fit (train_x, train_y)\n",
    "# The coefficients and Intercept of this Simple Linear Regression\n",
    "print(f'Coefficients: {regr.coef_[0][0]}')\n",
    "print(f'Intercept: {regr.intercept_[0]}')\n",
    "# Now it is time to draw the line we want using Coefficients and Intercept. \n",
    "plt.scatter(mydf.ratio, mydf.New_deaths,  color='gold') \n",
    "XX = train_x\n",
    "YY = regr.intercept_[0] + regr.coef_[0][0]*train_x   # y = Intercept + (Coeff * VaccinationRate)\n",
    "# Plotting Regression Line\n",
    "plt.plot(XX, YY, color='red')\n",
    "plt.xlabel(\"Vaccination rate (%) \")\n",
    "plt.ylabel(\"New deaths\")\n",
    "plt.show()\n",
    "# Calculate Predicted values by this model\n",
    "test_x = np.asanyarray(mydf[['ratio']])\n",
    "test_y = np.asanyarray(mydf[['New_deaths']])\n",
    "predict_y = regr.predict(train_x)\n",
    "# Usimg Predicted values to mesure Error of this model\n",
    "# Mean absolute error\n",
    "MAE = np.mean(np.absolute(predict_y  - test_y))  \n",
    "print(f\"Mean absolute error: {MAE:.2f}\")\n",
    "# Mean squared error\n",
    "MSE =  np.mean((predict_y  - test_y) ** 2)\n",
    "print(f\"Residual sum of squares (MSE): {MSE:.2f}\")\n",
    "# R2-score\n",
    "r2 = r2_score(test_y , predict_y)\n",
    "print(f\"R2-score: {r2:.2f}\")"
   ]
  }
 ],
 "metadata": {
  "kernelspec": {
   "display_name": "Python 3 (ipykernel)",
   "language": "python",
   "name": "python3"
  },
  "language_info": {
   "codemirror_mode": {
    "name": "ipython",
    "version": 3
   },
   "file_extension": ".py",
   "mimetype": "text/x-python",
   "name": "python",
   "nbconvert_exporter": "python",
   "pygments_lexer": "ipython3",
   "version": "3.9.7"
  }
 },
 "nbformat": 4,
 "nbformat_minor": 5
}
