{
 "cells": [
  {
   "cell_type": "markdown",
   "id": "5c53dd8a-9bcf-4676-a0a4-219b0dabb5cf",
   "metadata": {},
   "source": [
    "# Simple Linear Regression\n",
    "The goal of this notebook is to study the topic of simple linear regression on real-world data and to solve the problem using data science methodology.My name is Sina, I'm new to the data science and this is my first notebook!\n",
    "\n",
    "# Problem Understanding\n",
    "The COVID-19 outbreak has brought the whole planet to its knees.More over 4.5 million people have died since the writing of this notebook, \n",
    "and the only acceptable way out of the disaster is to vaccinate all parts of society. Despite the fact that the benefits of vaccination have been proved to the world many times, *anti-vaccine groups* are springing up all over the world.\n",
    "\n",
    "In this notebook, we want to see **if the mortality rate is connected to the percentage of people that has been vaccinated ?**\n",
    "\n",
    "# Analytic approach\n",
    "The number of deaths is a continuous variable. We can use the **simple linear regression** method so that the number of deaths  is our dependent variable and the vaccination percentage is our independent variable.\n",
    "\n",
    "# Data requirements and Data Collection\n",
    "We need a table of vaccination statistics from all over the world to answer this question.\n",
    "We also need to know the population of each and every country in the world, as well as the number of deaths from COVID-19. \n",
    "\n",
    "*First of all, we import the libraries required in this project: *"
   ]
  },
  {
   "cell_type": "code",
   "execution_count": 1,
   "id": "bea9da42-17a0-46ed-8c67-8fdd780bae28",
   "metadata": {},
   "outputs": [],
   "source": [
    "from sklearn import linear_model\n",
    "import pandas as pd\n",
    "import matplotlib.pyplot as plt\n",
    "import pylab as pl\n",
    "import numpy as np\n",
    "%matplotlib inline"
   ]
  },
  {
   "cell_type": "markdown",
   "id": "24461ba4-355d-4e87-9090-792b1a5a2958",
   "metadata": {},
   "source": [
    "### Datasets:\n",
    "   1. We obtain new deaths each day from the World Health Organization database.This database is available at this address  https://covid19.who.int/info/  .We downloaded this database and read it in the ```who_source``` variable via *pandas*. "
   ]
  },
  {
   "cell_type": "code",
   "execution_count": 2,
   "id": "dbed2dec-e2f4-42ea-a980-290385b7ef7d",
   "metadata": {},
   "outputs": [
    {
     "data": {
      "text/html": [
       "<div>\n",
       "<style scoped>\n",
       "    .dataframe tbody tr th:only-of-type {\n",
       "        vertical-align: middle;\n",
       "    }\n",
       "\n",
       "    .dataframe tbody tr th {\n",
       "        vertical-align: top;\n",
       "    }\n",
       "\n",
       "    .dataframe thead th {\n",
       "        text-align: right;\n",
       "    }\n",
       "</style>\n",
       "<table border=\"1\" class=\"dataframe\">\n",
       "  <thead>\n",
       "    <tr style=\"text-align: right;\">\n",
       "      <th></th>\n",
       "      <th>date</th>\n",
       "      <th>Country_code</th>\n",
       "      <th>country</th>\n",
       "      <th>WHO_region</th>\n",
       "      <th>New_cases</th>\n",
       "      <th>Cumulative_cases</th>\n",
       "      <th>New_deaths</th>\n",
       "      <th>Cumulative_deaths</th>\n",
       "    </tr>\n",
       "  </thead>\n",
       "  <tbody>\n",
       "    <tr>\n",
       "      <th>0</th>\n",
       "      <td>2020-01-03</td>\n",
       "      <td>AF</td>\n",
       "      <td>Afghanistan</td>\n",
       "      <td>EMRO</td>\n",
       "      <td>0</td>\n",
       "      <td>0</td>\n",
       "      <td>0</td>\n",
       "      <td>0</td>\n",
       "    </tr>\n",
       "    <tr>\n",
       "      <th>1</th>\n",
       "      <td>2020-01-04</td>\n",
       "      <td>AF</td>\n",
       "      <td>Afghanistan</td>\n",
       "      <td>EMRO</td>\n",
       "      <td>0</td>\n",
       "      <td>0</td>\n",
       "      <td>0</td>\n",
       "      <td>0</td>\n",
       "    </tr>\n",
       "  </tbody>\n",
       "</table>\n",
       "</div>"
      ],
      "text/plain": [
       "         date Country_code      country WHO_region  New_cases  \\\n",
       "0  2020-01-03           AF  Afghanistan       EMRO          0   \n",
       "1  2020-01-04           AF  Afghanistan       EMRO          0   \n",
       "\n",
       "   Cumulative_cases  New_deaths  Cumulative_deaths  \n",
       "0                 0           0                  0  \n",
       "1                 0           0                  0  "
      ]
     },
     "execution_count": 2,
     "metadata": {},
     "output_type": "execute_result"
    }
   ],
   "source": [
    "who_source = pd.read_csv(\"./dataset/WHO-COVID-19-global-data.csv\")\n",
    "who_source = who_source.rename(columns={\"Country\":\"country\", \"Date_reported\":\"date\" })\n",
    "who_source.head(2)"
   ]
  },
  {
   "cell_type": "markdown",
   "id": "0b08e691-9633-4858-aa59-4cc1f990eb97",
   "metadata": {},
   "source": [
    "   2. Through this information on the Kaggle website, we can also collect the vaccination progress of nations:\n",
    "   https://www.kaggle.com/gpreda/covid-world-vaccination-progress\n",
    "   And we store its value in the ```vaccine_source``` variable "
   ]
  },
  {
   "cell_type": "code",
   "execution_count": 3,
   "id": "75bf18e4-47af-4a09-bda0-0a0505afdd6d",
   "metadata": {},
   "outputs": [
    {
     "data": {
      "text/html": [
       "<div>\n",
       "<style scoped>\n",
       "    .dataframe tbody tr th:only-of-type {\n",
       "        vertical-align: middle;\n",
       "    }\n",
       "\n",
       "    .dataframe tbody tr th {\n",
       "        vertical-align: top;\n",
       "    }\n",
       "\n",
       "    .dataframe thead th {\n",
       "        text-align: right;\n",
       "    }\n",
       "</style>\n",
       "<table border=\"1\" class=\"dataframe\">\n",
       "  <thead>\n",
       "    <tr style=\"text-align: right;\">\n",
       "      <th></th>\n",
       "      <th>Unnamed: 0</th>\n",
       "      <th>country</th>\n",
       "      <th>iso_code</th>\n",
       "      <th>date</th>\n",
       "      <th>total_vaccinations</th>\n",
       "      <th>people_vaccinated</th>\n",
       "      <th>people_fully_vaccinated</th>\n",
       "      <th>New_deaths</th>\n",
       "      <th>population</th>\n",
       "      <th>ratio</th>\n",
       "    </tr>\n",
       "  </thead>\n",
       "  <tbody>\n",
       "    <tr>\n",
       "      <th>0</th>\n",
       "      <td>0</td>\n",
       "      <td>Afghanistan</td>\n",
       "      <td>AFG</td>\n",
       "      <td>2021-05-11</td>\n",
       "      <td>504502.0</td>\n",
       "      <td>448878.0</td>\n",
       "      <td>55624.0</td>\n",
       "      <td>12</td>\n",
       "      <td>40064421.0</td>\n",
       "      <td>1.120391</td>\n",
       "    </tr>\n",
       "    <tr>\n",
       "      <th>1</th>\n",
       "      <td>1</td>\n",
       "      <td>Afghanistan</td>\n",
       "      <td>AFG</td>\n",
       "      <td>2021-05-20</td>\n",
       "      <td>547901.0</td>\n",
       "      <td>470341.0</td>\n",
       "      <td>77560.0</td>\n",
       "      <td>10</td>\n",
       "      <td>40064421.0</td>\n",
       "      <td>1.173962</td>\n",
       "    </tr>\n",
       "  </tbody>\n",
       "</table>\n",
       "</div>"
      ],
      "text/plain": [
       "   Unnamed: 0      country iso_code        date  total_vaccinations  \\\n",
       "0           0  Afghanistan      AFG  2021-05-11            504502.0   \n",
       "1           1  Afghanistan      AFG  2021-05-20            547901.0   \n",
       "\n",
       "   people_vaccinated  people_fully_vaccinated  New_deaths  population  \\\n",
       "0           448878.0                  55624.0          12  40064421.0   \n",
       "1           470341.0                  77560.0          10  40064421.0   \n",
       "\n",
       "      ratio  \n",
       "0  1.120391  \n",
       "1  1.173962  "
      ]
     },
     "execution_count": 3,
     "metadata": {},
     "output_type": "execute_result"
    }
   ],
   "source": [
    "vaccine_source = pd.read_csv(\"./dataset/country_vaccinations.csv\")\n",
    "vaccine_source.head(2)"
   ]
  },
  {
   "cell_type": "markdown",
   "id": "fec81753-66e6-4202-8bfc-6d3eb76c0772",
   "metadata": {},
   "source": [
    "   3. Then we receive the population data of each country from the *Kaggle* website https://www.kaggle.com/rsrishav/world-population   and store it in the ```population_source``` variable . We also modify the *date* and *population* column name at the beginning ."
   ]
  },
  {
   "cell_type": "code",
   "execution_count": 4,
   "id": "9bc98622-3b75-4c84-8588-ea6806b23eeb",
   "metadata": {},
   "outputs": [
    {
     "data": {
      "text/html": [
       "<div>\n",
       "<style scoped>\n",
       "    .dataframe tbody tr th:only-of-type {\n",
       "        vertical-align: middle;\n",
       "    }\n",
       "\n",
       "    .dataframe tbody tr th {\n",
       "        vertical-align: top;\n",
       "    }\n",
       "\n",
       "    .dataframe thead th {\n",
       "        text-align: right;\n",
       "    }\n",
       "</style>\n",
       "<table border=\"1\" class=\"dataframe\">\n",
       "  <thead>\n",
       "    <tr style=\"text-align: right;\">\n",
       "      <th></th>\n",
       "      <th>iso_code</th>\n",
       "      <th>country</th>\n",
       "      <th>population</th>\n",
       "      <th>2020_population</th>\n",
       "      <th>area</th>\n",
       "      <th>density_sq_km</th>\n",
       "      <th>growth_rate</th>\n",
       "      <th>world_%</th>\n",
       "      <th>rank</th>\n",
       "    </tr>\n",
       "  </thead>\n",
       "  <tbody>\n",
       "    <tr>\n",
       "      <th>0</th>\n",
       "      <td>CHN</td>\n",
       "      <td>China</td>\n",
       "      <td>1,445,426,055</td>\n",
       "      <td>1,439,323,776</td>\n",
       "      <td>9,706,961 sq_km</td>\n",
       "      <td>149/sq_km</td>\n",
       "      <td>0.34%</td>\n",
       "      <td>18.34%</td>\n",
       "      <td>1</td>\n",
       "    </tr>\n",
       "    <tr>\n",
       "      <th>1</th>\n",
       "      <td>IND</td>\n",
       "      <td>India</td>\n",
       "      <td>1,396,764,493</td>\n",
       "      <td>1,380,004,385</td>\n",
       "      <td>3,287,590 sq_km</td>\n",
       "      <td>424/sq_km</td>\n",
       "      <td>0.97%</td>\n",
       "      <td>17.69%</td>\n",
       "      <td>2</td>\n",
       "    </tr>\n",
       "  </tbody>\n",
       "</table>\n",
       "</div>"
      ],
      "text/plain": [
       "  iso_code country     population 2020_population             area  \\\n",
       "0      CHN   China  1,445,426,055   1,439,323,776  9,706,961 sq_km   \n",
       "1      IND   India  1,396,764,493   1,380,004,385  3,287,590 sq_km   \n",
       "\n",
       "  density_sq_km growth_rate world_%  rank  \n",
       "0     149/sq_km       0.34%  18.34%     1  \n",
       "1     424/sq_km       0.97%  17.69%     2  "
      ]
     },
     "execution_count": 4,
     "metadata": {},
     "output_type": "execute_result"
    }
   ],
   "source": [
    "population_source = pd.read_csv(\"./dataset/2021_population.csv\")\n",
    "population_source = population_source.rename(columns={'2021_last_updated': 'population'})\n",
    "population_source.head(2)"
   ]
  },
  {
   "cell_type": "markdown",
   "id": "ae3fb999-69ae-4e42-b5f2-8d3a6d3cb8bf",
   "metadata": {},
   "source": [
    "# Data Understanding and Preparation\n",
    "After collecting our datasets, we have to merge the datasets based on the names of the countries. Before doing this, we check the difference between the names of the countries between the two datasets, ```who_source``` and ```population_source```. "
   ]
  },
  {
   "cell_type": "code",
   "execution_count": 5,
   "id": "2c48326d-5fb6-4097-aac5-7b22df7b4f4b",
   "metadata": {},
   "outputs": [
    {
     "data": {
      "text/plain": [
       "{'Antigua and Barbuda',\n",
       " 'Bolivia (Plurinational State of)',\n",
       " 'Bonaire',\n",
       " 'Bosnia and Herzegovina',\n",
       " 'British Virgin Islands',\n",
       " 'Brunei Darussalam',\n",
       " 'Cabo Verde',\n",
       " 'Congo',\n",
       " 'Curaçao',\n",
       " 'Czechia',\n",
       " 'Côte d’Ivoire',\n",
       " \"Democratic People's Republic of Korea\",\n",
       " 'Democratic Republic of the Congo',\n",
       " 'Eswatini',\n",
       " 'Falkland Islands (Malvinas)',\n",
       " 'French Guiana',\n",
       " 'Guadeloupe',\n",
       " 'Guernsey',\n",
       " 'Guinea-Bissau',\n",
       " 'Holy See',\n",
       " 'Iran (Islamic Republic of)',\n",
       " 'Isle of Man',\n",
       " 'Jersey',\n",
       " 'Kosovo[1]',\n",
       " \"Lao People's Democratic Republic\",\n",
       " 'Micronesia (Federated States of)',\n",
       " 'Northern Mariana Islands (Commonwealth of the)',\n",
       " 'Other',\n",
       " 'Pitcairn Islands',\n",
       " 'Republic of Korea',\n",
       " 'Republic of Moldova',\n",
       " 'Russian Federation',\n",
       " 'Réunion',\n",
       " 'Saba',\n",
       " 'Saint Barthélemy',\n",
       " 'Saint Helena',\n",
       " 'Saint Kitts and Nevis',\n",
       " 'Saint Pierre and Miquelon',\n",
       " 'Saint Vincent and the Grenadines',\n",
       " 'Sao Tome and Principe',\n",
       " 'Sint Eustatius',\n",
       " 'Syrian Arab Republic',\n",
       " 'The United Kingdom',\n",
       " 'Timor-Leste',\n",
       " 'Trinidad and Tobago',\n",
       " 'Turks and Caicos Islands',\n",
       " 'United Republic of Tanzania',\n",
       " 'United States of America',\n",
       " 'Venezuela (Bolivarian Republic of)',\n",
       " 'Viet Nam',\n",
       " 'Wallis and Futuna',\n",
       " 'occupied Palestinian territory, including east Jerusalem'}"
      ]
     },
     "execution_count": 5,
     "metadata": {},
     "output_type": "execute_result"
    }
   ],
   "source": [
    "set(who_source.country) - set(population_source.country)"
   ]
  },
  {
   "cell_type": "markdown",
   "id": "f46e7552-efb5-4677-ba36-53fcf66046d2",
   "metadata": {},
   "source": [
    "So, by running the previous code, we identified which countries exist in the ```population_source``` data set but whose names do not exist or are slightly different in the ```population_source``` data set.\n",
    "To overcome this limitation, we will change the names of several of these countries. We also apply these changes to ```vaccine_source``` Datasets. "
   ]
  },
  {
   "cell_type": "code",
   "execution_count": 6,
   "id": "2596c3af-b8ad-47c7-acb5-f68820ba10ea",
   "metadata": {},
   "outputs": [],
   "source": [
    "toedit = {\"Antigua And Barbuda\": 'Antigua and Barbuda',\n",
    " \"Bolivia\": 'Bolivia (Plurinational State of)',\n",
    " \"Bosnia And Herzegovina\": 'Bosnia and Herzegovina',\n",
    " \"Brunei\": 'Brunei Darussalam',\n",
    " \"Cape Verde\": 'Cabo Verde',\n",
    " \"Curacao\": 'Curaçao',\n",
    " \"North Korea\": \"Democratic People's Republic of Korea\",\n",
    " \"Republic Of The Congo\": 'Democratic Republic of the Congo',\n",
    " \"Falkland Islands\": 'Falkland Islands (Malvinas)',\n",
    " \"Guinea Bissau\": 'Guinea-Bissau',\n",
    " \"Iran\": 'Iran (Islamic Republic of)',\n",
    " \"Isle Of Man\": 'Isle of Man',\n",
    " \"Laos\": \"Lao People's Democratic Republic\",\n",
    " \"Micronesia\": 'Micronesia (Federated States of)',\n",
    " \"Northern Mariana Islands\": 'Northern Mariana Islands (Commonwealth of the)',\n",
    " \"South Korea\": 'Republic of Korea',\n",
    " \"Moldova\": 'Republic of Moldova',\n",
    " \"Russia\": 'Russian Federation',\n",
    " \"Reunion\": 'Réunion',\n",
    " \"Saint Kitts And Nevis\": 'Saint Kitts and Nevis',\n",
    " \"Saint Pierre And Miquelon\": 'Saint Pierre and Miquelon',\n",
    " \"Saint Vincent And The Grenadines\": 'Saint Vincent and the Grenadines',\n",
    " \"Sao Tome And Principe\": 'Sao Tome and Principe',\n",
    " \"Syria\": 'Syrian Arab Republic',\n",
    " \"United Kingdom\": 'The United Kingdom',\n",
    " \"Timor Leste\": 'Timor-Leste',\n",
    " \"Trinidad And Tobago\": 'Trinidad and Tobago',\n",
    " \"Turks And Caicos Islands\": 'Turks and Caicos Islands',\n",
    " \"Tanzania\": 'United Republic of Tanzania',\n",
    " \"United States\": 'United States of America',\n",
    " \"Venezuela\": 'Venezuela (Bolivarian Republic of)',\n",
    " \"Vietnam\": 'Viet Nam',\n",
    " \"Wallis And Futuna\": 'Wallis and Futuna',\n",
    " \"Palestine\": 'occupied Palestinian territory, including east Jerusalem'}\n",
    "population_source[\"country\"] = population_source[\"country\"].replace(toedit)\n",
    "vaccine_source[\"country\"] = vaccine_source[\"country\"].replace(toedit)"
   ]
  },
  {
   "cell_type": "markdown",
   "id": "076b5cf9-990e-4750-b637-653a02c4ed3a",
   "metadata": {},
   "source": [
    "Then we select the columns we want from each data set and merge the data sets to create the final data frame named ```df``` "
   ]
  },
  {
   "cell_type": "code",
   "execution_count": 7,
   "id": "2870d453-bae3-4b81-92f7-4c7d5724c5c4",
   "metadata": {},
   "outputs": [],
   "source": [
    "who = who_source[[\"date\", \"country\",\"New_deaths\"]]\n",
    "population = population_source[[\"iso_code\",\"country\", \"population\"]]\n",
    "vaccine = vaccine_source[[\"country\",\"iso_code\",\"date\",\"total_vaccinations\",\"people_vaccinated\",\"people_fully_vaccinated\"]]\n",
    "# We drop rows with NaN value at this stage from  vaccine data frame\n",
    "vaccine = vaccine.dropna().reset_index(drop=True) "
   ]
  },
  {
   "cell_type": "markdown",
   "id": "44003235-9f8b-44da-973b-c3f8aedd734c",
   "metadata": {},
   "source": [
    "We merge ```who``` and ```population``` datasets to create ```who_population_merge``` data frame \n"
   ]
  },
  {
   "cell_type": "code",
   "execution_count": 8,
   "id": "c3f8a7a7-7b00-4734-831c-24a1168ccf82",
   "metadata": {},
   "outputs": [
    {
     "data": {
      "text/html": [
       "<div>\n",
       "<style scoped>\n",
       "    .dataframe tbody tr th:only-of-type {\n",
       "        vertical-align: middle;\n",
       "    }\n",
       "\n",
       "    .dataframe tbody tr th {\n",
       "        vertical-align: top;\n",
       "    }\n",
       "\n",
       "    .dataframe thead th {\n",
       "        text-align: right;\n",
       "    }\n",
       "</style>\n",
       "<table border=\"1\" class=\"dataframe\">\n",
       "  <thead>\n",
       "    <tr style=\"text-align: right;\">\n",
       "      <th></th>\n",
       "      <th>date</th>\n",
       "      <th>country</th>\n",
       "      <th>New_deaths</th>\n",
       "      <th>iso_code</th>\n",
       "      <th>population</th>\n",
       "    </tr>\n",
       "  </thead>\n",
       "  <tbody>\n",
       "    <tr>\n",
       "      <th>0</th>\n",
       "      <td>2020-01-03</td>\n",
       "      <td>Afghanistan</td>\n",
       "      <td>0</td>\n",
       "      <td>AFG</td>\n",
       "      <td>40,064,421</td>\n",
       "    </tr>\n",
       "    <tr>\n",
       "      <th>1</th>\n",
       "      <td>2020-01-04</td>\n",
       "      <td>Afghanistan</td>\n",
       "      <td>0</td>\n",
       "      <td>AFG</td>\n",
       "      <td>40,064,421</td>\n",
       "    </tr>\n",
       "  </tbody>\n",
       "</table>\n",
       "</div>"
      ],
      "text/plain": [
       "         date      country  New_deaths iso_code  population\n",
       "0  2020-01-03  Afghanistan           0      AFG  40,064,421\n",
       "1  2020-01-04  Afghanistan           0      AFG  40,064,421"
      ]
     },
     "execution_count": 8,
     "metadata": {},
     "output_type": "execute_result"
    }
   ],
   "source": [
    "who_population_merge = pd.merge(who, population)\n",
    "who_population_merge.head(2)"
   ]
  },
  {
   "cell_type": "markdown",
   "id": "1e27d1e8-6e31-4f20-bf93-dc02e694adef",
   "metadata": {},
   "source": [
    "We also merge ```vaccine``` and ```who_population_merge``` datasets to create ```df``` the final data frame \n"
   ]
  },
  {
   "cell_type": "code",
   "execution_count": 9,
   "id": "95ae0e18-6f15-42f5-91df-2c68473763cb",
   "metadata": {},
   "outputs": [
    {
     "data": {
      "text/html": [
       "<div>\n",
       "<style scoped>\n",
       "    .dataframe tbody tr th:only-of-type {\n",
       "        vertical-align: middle;\n",
       "    }\n",
       "\n",
       "    .dataframe tbody tr th {\n",
       "        vertical-align: top;\n",
       "    }\n",
       "\n",
       "    .dataframe thead th {\n",
       "        text-align: right;\n",
       "    }\n",
       "</style>\n",
       "<table border=\"1\" class=\"dataframe\">\n",
       "  <thead>\n",
       "    <tr style=\"text-align: right;\">\n",
       "      <th></th>\n",
       "      <th>country</th>\n",
       "      <th>iso_code</th>\n",
       "      <th>date</th>\n",
       "      <th>total_vaccinations</th>\n",
       "      <th>people_vaccinated</th>\n",
       "      <th>people_fully_vaccinated</th>\n",
       "      <th>New_deaths</th>\n",
       "      <th>population</th>\n",
       "    </tr>\n",
       "  </thead>\n",
       "  <tbody>\n",
       "    <tr>\n",
       "      <th>0</th>\n",
       "      <td>Afghanistan</td>\n",
       "      <td>AFG</td>\n",
       "      <td>2021-05-11</td>\n",
       "      <td>504502.0</td>\n",
       "      <td>448878.0</td>\n",
       "      <td>55624.0</td>\n",
       "      <td>12</td>\n",
       "      <td>40,064,421</td>\n",
       "    </tr>\n",
       "    <tr>\n",
       "      <th>1</th>\n",
       "      <td>Afghanistan</td>\n",
       "      <td>AFG</td>\n",
       "      <td>2021-05-20</td>\n",
       "      <td>547901.0</td>\n",
       "      <td>470341.0</td>\n",
       "      <td>77560.0</td>\n",
       "      <td>10</td>\n",
       "      <td>40,064,421</td>\n",
       "    </tr>\n",
       "  </tbody>\n",
       "</table>\n",
       "</div>"
      ],
      "text/plain": [
       "       country iso_code        date  total_vaccinations  people_vaccinated  \\\n",
       "0  Afghanistan      AFG  2021-05-11            504502.0           448878.0   \n",
       "1  Afghanistan      AFG  2021-05-20            547901.0           470341.0   \n",
       "\n",
       "   people_fully_vaccinated  New_deaths  population  \n",
       "0                  55624.0          12  40,064,421  \n",
       "1                  77560.0          10  40,064,421  "
      ]
     },
     "execution_count": 9,
     "metadata": {},
     "output_type": "execute_result"
    }
   ],
   "source": [
    "df = pd.merge(vaccine,who_population_merge).reset_index(drop=True)\n",
    "df.head(2)"
   ]
  },
  {
   "cell_type": "markdown",
   "id": "91735b36-bb97-46f7-8054-ecf64a8adc71",
   "metadata": {},
   "source": [
    "Now we can see the names of the countries and columns in our final data frame "
   ]
  },
  {
   "cell_type": "code",
   "execution_count": 10,
   "id": "93c6d15a-832d-46c1-b10e-75117c518155",
   "metadata": {},
   "outputs": [
    {
     "data": {
      "text/plain": [
       "array(['Afghanistan', 'Albania', 'Algeria', 'Andorra', 'Angola',\n",
       "       'Anguilla', 'Antigua and Barbuda', 'Argentina', 'Armenia', 'Aruba',\n",
       "       'Australia', 'Austria', 'Azerbaijan', 'Bahamas', 'Bahrain',\n",
       "       'Bangladesh', 'Barbados', 'Belarus', 'Belgium', 'Belize', 'Benin',\n",
       "       'Bermuda', 'Bhutan', 'Bolivia (Plurinational State of)',\n",
       "       'Bosnia and Herzegovina', 'Botswana', 'Brazil',\n",
       "       'Brunei Darussalam', 'Bulgaria', 'Burkina Faso', 'Cambodia',\n",
       "       'Cameroon', 'Canada', 'Cabo Verde', 'Cayman Islands',\n",
       "       'Central African Republic', 'Chad', 'Chile', 'China', 'Colombia',\n",
       "       'Comoros', 'Cook Islands', 'Costa Rica', 'Croatia', 'Cuba',\n",
       "       'Curaçao', 'Cyprus', 'Denmark', 'Djibouti', 'Dominica',\n",
       "       'Dominican Republic', 'Ecuador', 'Egypt', 'El Salvador',\n",
       "       'Equatorial Guinea', 'Estonia', 'Ethiopia',\n",
       "       'Falkland Islands (Malvinas)', 'Fiji', 'Finland', 'France',\n",
       "       'French Polynesia', 'Gabon', 'Gambia', 'Georgia', 'Germany',\n",
       "       'Ghana', 'Gibraltar', 'Greece', 'Greenland', 'Grenada',\n",
       "       'Guatemala', 'Guinea', 'Guinea-Bissau', 'Guyana', 'Haiti',\n",
       "       'Honduras', 'Hungary', 'Iceland', 'India', 'Indonesia',\n",
       "       'Iran (Islamic Republic of)', 'Iraq', 'Ireland', 'Isle of Man',\n",
       "       'Israel', 'Italy', 'Jamaica', 'Japan', 'Jordan', 'Kazakhstan',\n",
       "       'Kenya', 'Kiribati', 'Kuwait', 'Kyrgyzstan',\n",
       "       \"Lao People's Democratic Republic\", 'Latvia', 'Lebanon', 'Lesotho',\n",
       "       'Liberia', 'Libya', 'Liechtenstein', 'Lithuania', 'Luxembourg',\n",
       "       'Madagascar', 'Malawi', 'Malaysia', 'Maldives', 'Mali', 'Malta',\n",
       "       'Mauritania', 'Mauritius', 'Mexico', 'Republic of Moldova',\n",
       "       'Monaco', 'Mongolia', 'Montenegro', 'Montserrat', 'Morocco',\n",
       "       'Mozambique', 'Myanmar', 'Namibia', 'Nauru', 'Nepal',\n",
       "       'Netherlands', 'New Caledonia', 'New Zealand', 'Nicaragua',\n",
       "       'Niger', 'Nigeria', 'Niue', 'North Macedonia', 'Norway', 'Oman',\n",
       "       'Pakistan',\n",
       "       'occupied Palestinian territory, including east Jerusalem',\n",
       "       'Panama', 'Papua New Guinea', 'Paraguay', 'Peru', 'Philippines',\n",
       "       'Poland', 'Portugal', 'Qatar', 'Romania', 'Russian Federation',\n",
       "       'Rwanda', 'Saint Kitts and Nevis', 'Saint Lucia',\n",
       "       'Saint Vincent and the Grenadines', 'Samoa', 'San Marino',\n",
       "       'Sao Tome and Principe', 'Saudi Arabia', 'Senegal', 'Serbia',\n",
       "       'Seychelles', 'Sierra Leone', 'Singapore', 'Slovakia', 'Slovenia',\n",
       "       'Solomon Islands', 'Somalia', 'South Africa', 'Republic of Korea',\n",
       "       'South Sudan', 'Spain', 'Sri Lanka', 'Sudan', 'Suriname', 'Sweden',\n",
       "       'Switzerland', 'Syrian Arab Republic', 'Tajikistan',\n",
       "       'United Republic of Tanzania', 'Thailand', 'Togo', 'Tonga',\n",
       "       'Trinidad and Tobago', 'Tunisia', 'Turkey', 'Turkmenistan',\n",
       "       'Turks and Caicos Islands', 'Tuvalu', 'Uganda', 'Ukraine',\n",
       "       'United Arab Emirates', 'The United Kingdom',\n",
       "       'United States of America', 'Uruguay', 'Uzbekistan', 'Vanuatu',\n",
       "       'Venezuela (Bolivarian Republic of)', 'Viet Nam',\n",
       "       'Wallis and Futuna', 'Yemen', 'Zambia', 'Zimbabwe'], dtype=object)"
      ]
     },
     "execution_count": 10,
     "metadata": {},
     "output_type": "execute_result"
    }
   ],
   "source": [
    "df.country.unique()"
   ]
  },
  {
   "cell_type": "markdown",
   "id": "978a7c32-553b-4c8d-95f2-c940f3b4a847",
   "metadata": {},
   "source": [
    "Before we start working with our data, we need to delete the ```commas``` and convert the data to the ```flaot``` "
   ]
  },
  {
   "cell_type": "code",
   "execution_count": 11,
   "id": "01d6142d-b746-401b-b6e6-6dcde28f0fab",
   "metadata": {},
   "outputs": [],
   "source": [
    "def f_1(row):\n",
    "    row.population = row.population.replace(',','')\n",
    "    return row\n",
    "df=df.apply(f_1, axis=1)\n",
    "df.population = df.population.astype(\"float64\")\n",
    "df.people_vaccinated = df.people_vaccinated.astype(\"float64\")"
   ]
  },
  {
   "cell_type": "markdown",
   "id": "136e7910-9910-480c-b919-aeadd75dc585",
   "metadata": {},
   "source": [
    "Since the percentage of vaccinations in countries is not available in our data frame, we calculate this percentage by dividing the ```people_vaccinated``` by the ```population``` of that country, and we store the data in the new column named ```ratio``` ."
   ]
  },
  {
   "cell_type": "code",
   "execution_count": 12,
   "id": "36469d21-6182-472d-83b7-c24b5fb42453",
   "metadata": {},
   "outputs": [],
   "source": [
    "df = df.assign(ratio=[0]*len(df))\n",
    "def f_2(row):\n",
    "    row.ratio = row.people_vaccinated / row.population * 100 \n",
    "    return row\n",
    "df=df.apply(f_2, axis=1)"
   ]
  },
  {
   "cell_type": "markdown",
   "id": "ffa2411a-8a55-4e78-8887-5391bde6f1a7",
   "metadata": {},
   "source": [
    "Now let's take a look at our data to get more acquainted with it.\n",
    "Here we plot the percentage of vaccinations and recent deaths of the COVID-19.\n",
    "for example ,let's look at the situation in **Italy**. Italy, as you may know, was one of the first countries to be hit by the disease: "
   ]
  },
  {
   "cell_type": "code",
   "execution_count": 13,
   "id": "797cb222-ebef-4708-aef4-0d233034bc02",
   "metadata": {},
   "outputs": [
    {
     "data": {
      "image/png": "[encoded data removed]",
      "text/plain": [
       "<Figure size 432x288 with 1 Axes>"
      ]
     },
     "metadata": {
      "needs_background": "light"
     },
     "output_type": "display_data"
    }
   ],
   "source": [
    "mydf= df\n",
    "mydf = mydf[mydf.country == \"Italy\"]\n",
    "plt.scatter( mydf.ratio , mydf.New_deaths, color='olive')\n",
    "plt.xlabel(\"Vaccination rate (%) \")\n",
    "plt.ylabel(\"New deaths\")\n",
    "plt.show()"
   ]
  },
  {
   "cell_type": "markdown",
   "id": "14d8d090-1394-4ea1-9bba-52e3e4f0c398",
   "metadata": {},
   "source": [
    "interesting! The chart above shows that the higher the vaccination rate in Italy, the lower the mortality rate. \n",
    "# Modeling\n",
    "It's time to see if we can create a model with our data.\n",
    "We previously stated that we intend to use simple linear regression.\n",
    "Consider the model function\n",
    "\n",
    "![image.png](data:image/png;base64,iVBORw0KGgoAAAANSUhEUgAAAL4AAAAoCAYAAABAS0DDAAADzElEQVR4nO2bsWrrMBiF9Sx9DL/BhdLH8FLIlqcIgcxZ2yV0uiR4C4F0SIZM7RQCBWPobPIC5w6xLTmRbcm2JF/r/0BLI1rFPfpzdH6FgSA8hLleAEG4gIRPeAkJn/ASEj7hJSR8wktI+ISXkPAJLyHhE+1IYnzNNlj/ecdbMTZYz74RJ64X1wwJn9AmXW0EscvGBvuD61XWQ8In9Ei+eZV/vavuSYz9ay7+T8TOFtkMCZ/QIp5x0aeyCcXG2OBrwJaHhD8CopCBMYZgcTH8l1J8ZRV9vZLKHkCMffaJMGS7oyX8yyIAYwyMBWh6xnxuiKjLCgdJgu15jpe/z3jKxstuju1VmPI7v722+8CP4dXYEz4XdSvhXxYImMJaozDTDkNoSDyaFT9CqLJwXLAIbvOYqZU744jpjgu+PCaY/t5mbU/Zhjib/7wflPAPn8UBV2p1GkXNNWZSO9pWJ3/ILFig8jFb2LFuSLDccZEvf7P/7PUo/HyOLY6Y5nOu9b+xD4YjfG6F6g63hYYe3IBQMOv01QP6Hr8QdbXdUdoc2ggPRWs02zJlcvsireS52J8xPdmzOcAQhJ8iPXwLiU6dFQKqqrqOle5Ki8Ntk91RtUO6uBd+bl9uVb3udXs2B3ApfLHCC6KfKQSZgt8PI6j7/55olerUHlwVPhH+T3hFfzodpTN+zpOS3+/b5vDnrjf6s5tqwr+JvyLulL6fAIHlM2G7OPN+twqYsTlDgAu/spJfP3jSY8DmDE/4Aklud8SubnMTi/t9uwlgyxy/KrXhNmdch1pASfhKc/rHvccvkxbJTpPXRykIsZkAtm9gFQvmu3Tc2b2e8PNY0wZDE37JAtX5fcE52E4BO3Ru76u76eze9eG22ePXpz7mGJ7wFa423EWXkcVEB+h4ZaHk54vda2rhroUvpDYV/r2U6lRtDgMMT/jNFf8xy7eX4QNd7+oICU4YBiM91AoIFf3ByogHW4sZPuBG+LWX0IQbnNINUtXgFK2PYc/T8ZLaYxW2kcG6o9y5nQqd28IG7SbFBhhzji/GlvEhRZpk4yBcW5alOk3ittT173w7sxyxjS27l3Bf2Uvj1thy1cgyz6Pw9b6MomZnuA0yp6fu15LFHTxmmyNyPWJ5mtxZm7nQsEqwPU1GLfz1Kpbk9u94e91gv4qRSt6yuqDN+/0e7uOPObsnyqinOkOnR6szxuyeKEPCzxjzvXviERI+gAui0G7TgXCNx8KXXZQKqNp7AgmfN66o1HuEx8IniDFAwie8hIRPeAkJn/ASEj7hJSR8wkv+AZMhoPFKuOJ/AAAAAElFTkSuQmCC)\n",
    "\n",
    "which describes a line with slope β and y-intercept α .\n",
    "Here we call β **Coefficients** and we call α **Intercept**. \n",
    "\n",
    "Using sklearn package to model data and finding Coefficients and Intercept."
   ]
  },
  {
   "cell_type": "code",
   "execution_count": 14,
   "id": "17bf6db9-8e32-4354-b586-89b55d3dd0ae",
   "metadata": {},
   "outputs": [
    {
     "name": "stdout",
     "output_type": "stream",
     "text": [
      "Coefficients:  [[-5.99874213]]\n",
      "Intercept:  [417.93646996]\n"
     ]
    }
   ],
   "source": [
    "from sklearn import linear_model\n",
    "regr = linear_model.LinearRegression()\n",
    "train_x = np.asanyarray(mydf[['ratio']])\n",
    "train_y = np.asanyarray(mydf[['New_deaths']])\n",
    "regr.fit (train_x, train_y)\n",
    "# The coefficients\n",
    "print ('Coefficients: ', regr.coef_)\n",
    "print ('Intercept: ',regr.intercept_)"
   ]
  },
  {
   "cell_type": "markdown",
   "id": "6b453834-4d08-4c34-ae7a-398aac73c9b9",
   "metadata": {},
   "source": [
    "Now that we've found **Coefficients** and **Intercept**, we can draw a regression line on the chart. "
   ]
  },
  {
   "cell_type": "code",
   "execution_count": 15,
   "id": "12aa4693-493e-4f6c-bf02-99cadc1f0a60",
   "metadata": {},
   "outputs": [
    {
     "data": {
      "image/png": "[encoded data removed]",
      "text/plain": [
       "<Figure size 432x288 with 1 Axes>"
      ]
     },
     "metadata": {
      "needs_background": "light"
     },
     "output_type": "display_data"
    }
   ],
   "source": [
    "plt.scatter(mydf.ratio, mydf.New_deaths,  color='olive')\n",
    "plt.plot(train_x, regr.coef_[0][0]*train_x + regr.intercept_[0], color='red')\n",
    "plt.xlabel(\"Vaccination rate (%) \")\n",
    "plt.ylabel(\"New deaths\")\n",
    "plt.show()"
   ]
  },
  {
   "cell_type": "markdown",
   "id": "f11d261c-3454-4dae-aa4d-8300ce288e48",
   "metadata": {
    "tags": []
   },
   "source": [
    "# Evaluation\n",
    "To measure the accuracy of a regression model, we compare the actual and projected values.\n",
    "Evaluation metrics play an important part in the development of a model since they give insight into areas that need to be improved. \n",
    "There are several model assessment metrics; in this case, we'll use MSE to determine the accuracy of our model based on the test set: \n",
    "\n",
    "```Wikipedia:```In statistics, **mean absolute error (MAE)** is a measure of errors between paired observations expressing the same phenomenon. Examples of Y versus X include comparisons of predicted versus observed, subsequent time versus initial time, and one technique of measurement versus an alternative technique of measurement. **MAE** is calculated as: \n",
    "![image.png](data:image/png;base64,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)\n",
    "\n",
    "```Wikipedia:```In statistics, the **mean squared error (MSE)** or mean squared deviation (MSD) of an estimator (of a procedure for estimating an unobserved quantity) measures the average of the squares of the errors—that is, the average squared difference between the estimated values and the actual value. MSE is a risk function, corresponding to the expected value of the squared error loss.The fact that MSE is almost always strictly positive (and not zero) is because of randomness or because the estimator does not account for information that could produce a more accurate estimate:\n",
    "![image.png](data:image/png;base64,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)\n"
   ]
  },
  {
   "cell_type": "markdown",
   "id": "7cee2063-e284-4095-99f6-051dd4f53481",
   "metadata": {},
   "source": [
    "**Root Mean Squared Error (RMSE)**:is the standard deviation of the residuals (prediction errors):\n",
    "\n",
    "![image.png](data:image/png;base64,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)\n",
    "\n",
    "```Investopedia: ```**R-squared** is a statistical measure that represents the proportion of the variance for a dependent variable that's explained by an independent variable or variables in a regression model. Whereas correlation explains the strength of the relationship between an independent and dependent variable, R-squared explains to what extent the variance of one variable explains the variance of the second variable. So, if the R^2 of a model is 0.50, then approximately half of the observed variation can be explained by the model's inputs. \n",
    "\n",
    "![image.png](data:image/png;base64,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)\n",
    "\n",
    "\n",
    "\n"
   ]
  },
  {
   "cell_type": "markdown",
   "id": "965d6b3b-5cf7-4297-b3f6-6b8ab96e5637",
   "metadata": {},
   "source": [
    "![image.png](data:image/png;base64,iVBORw0KGgoAAAANSUhEUgAAAQYAAACoCAYAAAACVEAWAAAgAElEQVR4nO19eXgUxbp+ZV8gBBI2gRtQUQEvHPEIKuTAYT0IIoiCKHovix4WdxFQDgoEZFcQZBGQxUAwRhZB9gAhQMAAsiOIguwIZJnM3jPd7++P/L5K9RIBk8Erqfd58mSmp7u6urrqra++rRgkJCQkDGB/dgUkJCT+70ESg4SEhAmSGCQkJEyQxCAhIWGCJAYJCQkTJDFISEiYIIlBQkLCBEkMEhISJkhikJCQMEESg4SEhAmSGCQkJEyQxCAhIWGCJAYJCQkTJDFISEiYIIlBQkLCBEkMEhISJkhikJCQMEESg4SEhAmSGCQkJEyQxCAhIWGCJAYJCQkTJDFISEiYIIlBQkLCBEkMAYamaQAARVEAAH6/H6qq8t89Ho/pGjoXAFRVhc/n45/pd7/fDwDw+Xz8HgS73a777nA4+LlUlniPksLtdgMAvF4vP0Z18ng8KCgo4Mfp/kZ4vV7+fDabDZqmYenSpWjSpAkYY2jQoAFSU1P5vSQCC0kMAYQ4EAHgiSeeAGMM4eHhYIyBMYaoqCgEBweDMYawsDB+PDMzU1fW9evXAQD79u3Dq6++ipSUFD6QaLAQyWiaBk3TdATi8Xj4YKVjpQGql1iPvLw8fo/169ejQYMGCAkJwdGjR6GqKq5fv47s7Gw8/PDDSE9P5/Xy+Xz8mbKyspCQkIBz585B0zT07NkTMTExpntJBAaSGG4D8vPzkZOTA7fbjbi4OMTGxuLQoUN88BQUFEDTNJw5cwYtW7bkxKBpGlwuF2w2GwBg9erVqFy5Mvbv3w9VVXWSgqZp8Pv9OulCJCWSGoDiZ+1bhbGc3Nxc3fcPP/wQjRs3xsqVK5GZmYmwsDB8++23AACXy4VTp06hfv36ePvttwEUSg1Upsfj4VJNQUEB0tPTcc899wAAbw+JwEESQwBhnJl9Ph+mT5+O4OBgNGjQAADgdDp153z99ddgjCE7O1t3PD09HbGxsfj1118BgEsExutpxhWXK8alBVA6My4Rk8vl4qSgKAry8/MxZcoUTJkyhdfD4XDg2rVreP3115GWlsaPu1wuxMfHY8aMGbxcsd2IKB5//HGkpaWZ7i0RGEhiCDDEQQMUznYtWrRAWFgYJk2axI/TAHC5XHjwwQexZcsW3Sxfr149TJw4EYqiIC8vT3cPmkGJJFRVhdfrhdvt5ut7TdNgs9ngcrlK9flEYqIBLeovcnJyTNfQefR/9erVuPvuu3H58mVOWHa7nZfdr18/rFy5EkBhO+Xn55fqM0iYIYkhwKDOLQ6WXbt2ISgoCGFhYdi3b5/ufI/Hw9foNCuuWLECjDFcvXpVV5aqqvjiiy+QkJCAhg0b8vW+qqro3r07ypUrh6eeegqqquokCEVRSkViIJ2G+Gw+nw9jx44FYwz9+/fn9/H5fFy/MmvWLLhcLq6s9Hg8qF27NqZPn266x2uvvYalS5cGRD8iUTwkMdwmOBwOXaceN24cGGNo2rQp1weoqspndDpXVVX8+9//RsuWLbkkABQuBY4ePYoRI0Zg9+7dYIxh0aJFAApn27Nnz4IxhokTJwLQWzJEkigJRAsLkcPHH3+MTZs2YcKECWCM4cyZM/yZ0tPTER4ejt27d/MySFIaMGAAXnjhBeTm5vLz3377bcyfP5/fq1evXgCsLTkSpQtJDAGEcUalWY+WCPXr1wdjDDNnztQp8ozk0KFDB7Ru3Zr/bpztbTYbateujWHDhvF7nDt3DpUrV0Z+fj6/P5kBxTqVBCIpkM4DKBzsR48eBWMMW7Zs4e0wb948dOzYkbeFKPkkJSWBsaLuuG3bNm61CQ8PR1BQEBhjUFVVSg23AQEnBo/Ho9M2iyY86liicuxOWj8aiQDQa9t37drFzZPnzp0DUNQmopmxcuXKmDRpkm5ZYrQItG3bFq1ateL3TUlJwfDhwznJaJoGj8djWlIQbDYbJkyYgIiICDDGEBkZyesWFhaGoKAghISEgDGGmJgYjBo16obPzxjT6VH69OmD9PR0/l1876NHj0ZMTAyXiIxKVYnbi4ASg9HhRewIxhlL0zRdZ7gTTFLizC4qIH0+H59FO3fujFq1auHatWsAzNKFpmlgjGH27NmWZWmaBrfbjU8//RTx8fG8DV966SVONnl5eablg6Io/P2IGn7xHRD5+P1+3bsTHZZ+D23atEHPnj3h9/tx/vx5dOvWjb9X8Z5+vx9jxoxBeHg4APC2kPjzEHCJwel0wuVyWZqXaDYzzn5W5rW/Ioxiu0gIqqpi8+bNiIyMxE8//QS/3w+32w1FUXD+/Hl+DgDEx8fjP//5DwDorgeKyPfgwYNcFN+xYwdGjx7NLQJ0TVxcHJYsWWIiZbJgiCK6cbkiXkPn3wgffPABXzqMHj0ae/fuNfUDevejRo3i9RclLIk/BwEnBlE0Jocd+k6dzdjJ/H7/HaFgEpdMovRkt9uRk5OD2NhYfPLJJ3C73aY2IEuC3+9H+/bt0bVrV51U5XA4+LJLURRs2rQJISEhyMrKQp8+fXD58mVdeaKJk8qgJZ44WEXvQ+N78Hq9Og/KG2HBggVgjOHixYvo378/7wMej8c0KYwfPx6hoaH82tJ02Za4dQScGMSOBoB77IkvnmYql8vFO8yd0DFEnwEa+KTJ79mzJ5544gkuHYmKPFVVucitKApef/111K1b16SbMZbNGMOgQYOwfv16/pvD4UB6ejqio6Pxj3/8g7crDXifz6cjLb/fr/vucrl05HArjkVZWVlgjGHMmDE4cOBAsecpioJ+/fqhWbNmvA4Sfy4CSgw0MChAxjjoRa206Ihzp3UMmqHp+ZctW4ZKlSrh8uXL/DdxQIoxDwCwdu1aMMa4FCBKWqJS97//+7/Ro0cPOJ1OeL1e3SBu0aIFPvnkE/7d4XDoJBmRwI2DX9R7iN6ON8KVK1dQs2ZNJCUl8eWBzWYzSYOapiE6OhoLFiwAUHrmVIk/joASg6jIoo50+PBhDBo0CNWrVwdjDN27d4fNZtN1BooduBNg1DOcPHkSlSpVwhdffKFTIooiepMmTTB69GhdcFTjxo0xadIkviTwer06y4XH40GHDh1w/vx5XdvRMqV27do4fPgwHA4HJwOjVEblEeEQ6WiaxvUjt+IYdfr0afzzn//k3426JEVRoCgKVq1ahSpVqiAnJ4efI0otErcfAV9KXLhwAUBhZ1NVFd26dcOYMWMAAEePHkVISAhmzZoFQD8j3SkQHYs0TUPTpk3RvXt3/ju1C2HJkiWIiIjAzp07deWsXbsW1apVw5kzZ3THaaCOGDECa9as4WWJFoVz586BMcYHongdKYbJF0G8VoxnEJ+Hyr0ROnbsiJMnT+oIh0Bl5+XloW7duvj4449vulyJwKNExEAdye12IywsDKGhoQgNDeX270aNGmHUqFGmjiaKz02bNsXXX3+tcwGm2cLv9+v0D0ZffFJkiRDPt8qBIA7Cffv2oUuXLti2bZtOyy92YHFWpZmTYJwBjfoUI8m9//77POQ6LCxM5ysQEhKCqKgo/jkjI4O3LdVn0aJFaNy4MX755RcoioJevXphy5YtWLp0KT799FPeFiRVUFskJyfjySefxJEjR7i4XpoQJYvo6Gi43W4MGDAABw8eLDaq0+v14sSJE2jevDkGDBjAj5MlxYqUxOvlciOwKBExiINy5cqVJoeWKVOmIDg4GF9++aXJvKYoCtLT09GqVSudroEgipJW4qt4TNM0k+a/uPq63W5omoYXX3yR5z/Yt28fvF6vpZ+F6EwkWlJEWMUeiORHpsD4+HhdPobg4GBERESgfPnyOkKtVq0aNmzYoCvPZrPB7/fj+PHjaNeuHZKTk3HXXXehWrVq+Oyzz3Tn0f39fj/y8vK4I1Xr1q2Rl5dXauZgspyQxHH58mUEBwfjvvvuw/79+3Xniu/G4XDg+PHjaNSoEdasWQNN0+BwOHRtS8sjoDDng1H/Ulqh4xLWKJWlhKqq+P7771GxYkVs374dmqbx9XN0dDQaN27Mz6UOe+zYMTz77LO4dOkSfvvtN/47meBUVdXN+D6fD4qi6M6loCKbzabTZ5CDjKqqPEZBjBN45plncODAAWzfvh21atXC5s2bTaG+5NRjNOURSFlqnLnEDi06KQHmnAhUr4KCAh3JUjAUWSjoOjqnOO9Qt9ttIkfRRBxI0PsBip6TzK2iMxXVSSQno6QlOreJbaYoik5ylAgcSkwM1OmmT5+u83UHCgc0KRjFdXZWVhaeeOIJnD59mp8rmuioE4kmPOOSgWZoceAaZx2xs4mdichi3bp1YIxhx44d/Dev12tyx/X5fNz5iEDuxWRiFaP/jAo0kVBEUy1dYyQXWiJpmqYbUGLyFXHAGP0gfD6fLnpRBJFOaZAFvRMqS1VVPuBFi4lYf+PziPUoKCgwSZZUhs1m4+3mcrmkxBBglJgYaD3bqlUrNGrUCECRGL1r1y7ExsYiOTmZi9unT59GmzZteAc6fPgwxo4dC0CvszAGEgFFHfHSpUv82JUrVwDoU4yJnYYkDPF3Kmffvn0ICQnB9u3b4XQ6Td59xo5LM52VvsLY6UXCMg5C+i6SnaqqcDqdJlKidirOTTg/P99UDxFW8ShUP1oK/NE/o9OWFYxBT6IClECmWisdQl5eHic9RVE4IUqrRWBRImIQXyRjDJMnT4bP50NOTg5SUlIQExOD/v3783M8Hg8SExMRHR0NxhhfV3/44Yf8HKPHHg2iiIgInhuxRo0aYIwhKCgIVatWBWMM5cqV42t0grEDGvUAmZmZJomhODHVqJQUPRDF2AFRYjA6D1kFBhWnRMvNzeWSCoGSrdCziL+RRENLML/fr/MdMA6k0hpYIrm53W5TEhkrIiCI79qq3UkfJJZl9Vmi9FFiicHhcCAjI0M3MMPDw1G7dm2sWLGCDxrSBwB6PQJB/Jybm6vLMgxAJ8qLnY86PxEIzVyiKOp2u/mAElOQZWVlITIyErt27eKit6gIJQ15fn4+PvzwQ8TFxfHnCw4O5tGGooUhMjJSR3RitGB0dDQnRfGPyhHbLzIyEpGRkTzake5ToUIFMMYQERGha3PRwkGfqdzg4GDExsbq7iFeW5I/ImZj3em+ISEhCAkJ4aQu/lWuXJl/FpWv9BccHIzw8HCuJCarTURExB/qqxI3jxIRA7H8xIkTwRjjCTjGjx+P+Ph4nD59WueB53A4TOttUdOvqqpOdyCux61s4IBZOy2aOo0g0iCyIomBTIPA70d1imLxzZrLxPKslIZWWZDoPmLINP03hnCLsNKviMfEJU1pKSTFZxLT0xHIxGuV5t5KT2BMYltc+LVcSgQWpWKVaNmyJerWrcsHDZmthg0bxs9RVZV35FsNkPL5fLqU67SMoFlFPB4REWFau4skITpRZWRkICQkBNnZ2TfVaf8o7Ha7TvlKoGNG0yZ9NuoyxOcQB5BIrHSdlaMYlW1UpP5RGE2HImkZ/TnEd0KKVXHQE8EYfUUIVF9jJmqJwKDExHD9+nVUqFAB7777rk7RVbduXbRt21Z3rvjCb6Zjil6BovJQnKWMM4do6jPC6Fm5a9cuBAcH86AjK3NfSSGmYqOkNYDeHAvok6YaHaxEQvB6vbrnJ/Oo3W7X5VeggSc+cyAiVinmQsT169ctrTRWxOF0Onm9jG0vOk6J3xVFuemcEBJ/DCUmhrlz5yI8PBzvvPOOrkO//PLLiIqKwi+//KI7n9KL3wqMs4ToJEWiuii+Wi0HjEsLRVGwbt06hIaGIikpiR+ngK7S8KwzisF9+/blEk65cuV0+gNal5MklJ2drbve6FMBmJWpRn8A8ZkIfr8fTqezVBPhWJGAeE+xnjk5OTrpycpUCxQt+8Rnstvt0kx5m1AiYti+fbtOaUSJO10uF1atWgXGGJ588kkcP34cgDnz0I0gxuxTSjSaXaz2UyCHIZEkRPEcKDRvTp48mW99xhhDfHw87r77bgwfPjwgsyqZVM+fP4+QkBCEh4fz7NBiO5w4cQItWrRAVFQUMjIy+CBwOp18cGzduhU9evRAcnIyP2a0igAwZVwqLnKypBADuQikOzJGyookkJGRgSZNmmDjxo3cmmJ8p6mpqXj00Ue5onLjxo18UjBaPyRKF6WiYxD3CaBBSSK9FcPfSuqu3zM5WpHEzYqbv6e4E60iJYHP59ORodfrxezZsxEVFYXHHntMJznRc3333XdgjCE9Pd3Udp9//jmaNGli2oyGSMCY3clK4Uch2aVFgKKuQPT4JNKtVKmSyQLTqlUr7t796KOPYuDAgbw8j8cDh8OBrKwsVKpUifejHj16IC4uDoDcnu52oETEIM5kQNEMT4OMQoPz8/OLjfG/EajTW3k/AuYEKFZKPiIJkUCMAVtUlpV4+0dB9zBuuvLwww+DMYZp06bx80TJJj4+nvtWUJ23bt2KmJgY/PjjjwCsLQD0LOL9jJ6EpQkqW0wLJ97H5/OZclEYkZ+fj/Lly/MIWwKROhHDqlWr+BZ10iIReJR62DVFNYrrf6DoZTocjpuerYojD1LAieZNAq1zKUmqcZCLUZxUlhgbcaN73wrEDkwBXH6/H4cPH0alSpUQEhKCPXv2AIAuk5Po9UkE8MADD+Dzzz/n5xjLN3pTknOVaKKlc4yE/kdBg1fcqVokCVFpSM9B9aG6uN1uZGZmoly5cigoKIDf7zcRaV5eHrp3745vv/3WMoRbovRRYmIQ15NWnmlWdu5bAeUdpA4vDl4xNFdUetEf1U/MNSCeY0xpRihNjTfdw+guPXbsWISGhqJhw4aWijo63+VyYe3atQgJCcGRI0d0zwAU5m8oX748mjZtqlu2tG3bFkFBQXjmmWdMS6PSTLYrthVJB7RHBC0RqH+QYpVyL4gTxP33348pU6YAMGfKfuONN/DVV19ZZpiWCAzkhjMBBinJVFU12eoTEhIQHByM8ePHF+uzoGkaBg4ciAcffBCAnjiys7MxcuRIpKengzGG1NRUPjgvXrwIxhgWLlyou04su7jYDrEeIkRJQ8x4DRQplhcvXoz09HSMHj0aISEh+OWXXzgJr1+/HpGRkTh16pQuyMvn8+GVV15B+/btTXXt378/kpOTAeizXN2OiNGyDEkMAYQxjgDQL1H27t3L3YhPnz7Nl2BGk1+bNm3QtWtX3TFA7wQVExODDz74gN/rzJkziI+Px4ULF3TSh5X2n8olqw6VK8Z8WO1AbYXz589DURT89NNPYIxh69atvC1WrlyJf/3rX7rNd6n+Y8eORUxMDK/H9evX0bdvX6xatYqX/cILL/DnkAgsJDEEEFZLFeOSqHnz5rj33ntN+R/F5VF8fLxl/IVYXqdOndCmTRu+nk9JScH777+vW/8bczOIORw9Hg+mTZuGihUrmuIYyM+CTNPVqlXDpEmT+BKBdANGxMTE4L333uPf+/XrhzVr1li2EYXtUzmnTp3i8SFiLIVUPN4eSGIIMMQZnrwESRzeuHEjIiIicOTIkd9VdjLGdDtBi9IHkcfYsWMRGxvLz3nmmWdw7tw5y7BrY1JXUnLSf6OEYEwhLyoyqR6A3lSsqirat2+P//mf/4HH40FBQQFatmwJwOyDoGkaj7chUNCdx+PR7W9xs9m6JEoGSQy3AaLykwZqTk4O6tSpgxEjRuhEc3IbFt2Hy5cvzyUGUdkrlr9y5UoEBQUBANatW4eJEyfqyrXZbKhSpQrWrl17w0xQVE9jXIfVEsRKUiCr0NChQ/Hkk0/C5/Nh7Nix2LlzpyUB+nw+TJkyxZTopzgnptIyJ0sUD0kMAYbV/pAA0LVrVzRv3px/N0YVite3bNkSTz31FD9P/O9yuXD16lVcuHABjDFs2rQJr776KnJyckzBZAQxz4PdbteZle12u066EBOlAIVkImZsErNNU33pWVNSUsAYg8fjwUsvvcTLMDqk+f1+TJo0CZGRkabITIKiKHy5ZTRnSpQ+JDEEGOIgoECqefPmoUaNGjyORDT5UXp4MSP2yJEjkZCQoNt/wxiFqGkagoODMXToUKSmpupSq3311VeIiYnBk08+WawIbsygZLQ6GOMwjCRmlaZuw4YNiI6OxrBhw/DLL78gNzdXFzxF9wWA5557Du3atTN5b1r5vEjlY+AhieE2QBxUv/76K2JjY7FkyRL+u3HT3wceeABTp07l39PS0hAUFIRz587p3M/FJDAulwuJiYk6KYTKBgotGxMmTOD1MYaii6B1vJiM1xjQJaI4j9Tr168jJCQE48ePt8x+BRQRQOXKlTFjxgxdm4mKUQKRqNz4NrCQxBBAGGdnRVHQtGlTPP/888VGH65atQrx8fHYsmWLLmU6OQAZ9Qti8psGDRroxGwxxLtGjRqmGIvSgJi4xuiJevHiRXTq1IlndwasSeiLL75A9erVkZOTA6/XKwf9/wFIYggwaHZ0u92YNm0aD62mNGViSjQx3RpFX9L6f9u2bahQoQJfahjzIX744YdYt24dgMJZlWb769ev49q1awgPDwdQJEHcSiBbcaA1v0gGpGPweDxo0aIFd/kmiGn9CgoKYLPZcP/992POnDklro9E6UESQwBh9Fkgm7wYaSiGrZPLcPXq1bFhwwaTBn/evHl47LHHcOLECQDA008/jYyMDIwZMwZz584FoBexiVQWLVqEdu3a4fz587olSmmAYjtIkomJicG1a9cwZMgQHDt2DEDxOoFLly6hQYMGGDx4MM+Q7XQ6dfEWEn8OJDEEGMZYEXHdbNx8liwTojKSMjARyezduxedO3dGamoq6tevjzp16iA1NdV0X3EZs2jRIjDG0LFjR1y7ds1yz4eSgJZFP/30E8qXL4//+q//4pLCxYsX+Tl0z7y8POzevRuNGzfG6tWrTUpOiT8fkhgCCKPVACic0WljHJEYjGvvvLw83YARdQdieLvRHErivaZpvxvAVhozMkknYsi4GLZu3LlLDIsXw+jpv81m44pR6cD050ISQwAhKhh/L9uxGEps3GjH6FZt3NhX/Cym6Be9I8VUeKWdK9E424tp3gB98BjVS7TCGAnLKElJ/DmQxBBAiMlfjaAB6vF4ihWfxQEiKgtFKcEqtZoxR6ZVNunSGnzGLe+Mjk7GLeisQORFzyCtEn8+JDHcRtxIfKcBYTRHEsS9G8XyxL00jHtDUlmiNaC081r+3pKIIJpeKR7j91ybpdTw50ISg4SEhAmSGCQkJEyQxCAhIWGCJAYJCQkTJDFISEiYIIlBQkLCBEkMEhISJkhikJCQMEESg4SEhAmSGCQkJEyQxCAhIWGCJAYJCQkTJDFISEiYIIlBQkLCBEkMEhISJkhikJCQMEESg4SEhAmSGCQkJEyQxCAhIWGCJAYJCQkTJDFISEiYIIlBQkLCBEkMEhISJkhikJCQMEESg4SEhAmSGCQkJEyQxCAhIWGCJAYJCQkTJDFISEiYIIlBQkLCBEkMEhISJkhikJCQMCHgxODz+fhnj8fDP/v9fv67oiim6zweDzRN050rgq6hcwDA4XDorjGWS+W43W5d3ei43++3vJeERFlDQInB7/dDVVXdMYfDwT/b7XbTcZfLxQfsDz/8gEqVKiEsLIwfF8tzuVwAgKtXr+ruQeRA54qERGShKAo/rqoq8vLy+Dk2m00ShESZRsAlhuPHj4MxBsYYqlSpAlVVoWkaFEXBG2+8gUqVKumkil69eiEsLAyMMRw4cACbN28GY0XVpNmeQCRgs9mgqipyc3MBFEoDooSgaRo/1+v18utFqUJVVbhcLp0UIiFRFhFQYnA6nfD7/Zg7dy4YYzh06BCAosFcoUIFhIaGIjs7W18pxvDDDz8AALKzsxEWFmaSCjweDxRF4YNcHOA3+myz2QAUSSmiFEPliVKGhERZw21RPjocDjDGMGvWLD4Ily9fjv/93/8FYwyLFy/m5x08eBA1a9aEqqpwOBzYtGkTypUrB6BIWsjPz7e8z2+//cY/0zKD4PV6+b3FZYMRXq8XTqfzDz6phMSdgYASA83QqqqiSZMm6NWrF1RVhaIoGD58OBYuXIh27dqhV69e/LyhQ4di8eLFXKrYvXs3GGP49ddf0bVrVzDGUKtWLRw4cABA0WyflJSEhg0bgjGGxx9/HAcOHIDP58OePXtQuXJlMMaQn5+PDh06IDY2FsOHD4fP50NSUhIaNGgAxhjatm3LpRorhaiERFnBbSEGRVEwefJkna4gISEBdrsdc+bMQXR0ND9es2ZNHDhwAIqiwOfzYevWrWCM4e2334bNZkN2djbuvfdeDB48mM/8ixcvRvny5fHzzz/D4XDggw8+QO3atQEABQUFGDt2LEJDQ/HKK69gw4YNqFevHqZNm4YlS5agSpUqOHr0KABg2LBhuO+++3T6CQmJsoiAEgNZBbxeL7KzsxETE4N169bhyJEjaNKkCQDgyJEjCAoKwoEDB7B//348+uijAIr0EFlZWQgODsZvv/3GlZQdO3ZE+/bt+X2aNWuG4cOHw+v1wu/34/z582CMISsrCwAwY8YMMMa4YpKQmJiIIUOGcBL44YcfEBoaiqNHj0oFpESZRsB1DAUFBfxzXFwcRowYgUmTJmHOnDn8eHR0NJKTkzF8+HCkpaXpLAjr1q1DREQEgCIdQ4sWLXTEwBhDUFAQoqOjwRhDpUqVwBjDvn374HK5MGXKFDDGuO6AFIyMMYSHhyMoKAiMMQQHB4Mxhp07d/KyRSWkaCqVSw2JOxkBJwZRJH/xxRfRrFkz/P3vf8epU6f4b/369UPXrl1Rp04dXL9+HUDh4FUUBQcOHNAtQfLy8tC5c2c8/fTT8Hg8cDqdeOSRR/DRRx/pTJmKonCCmTRpEkJCQvhvRAx33303JkyYAKCIdBRFgaIocLlcJmuF2+3WmVYlJO5UBJQYyDLgcDjg9/uxYcMGhIeHo3HjxjoPxRUrViAoKAi9e/cGUDQb+3w+ZGVlgTGGSy9fCNkAAB+YSURBVJcu8XI7dOiAxMRE/n3KlCkIDw/HgQMH4HQ6cfz4cfTo0YP/Pn36dDDGdA5VXq8XH3/8McqVK4fdu3fD5XLhp59+Qs+ePfk5jDHMnj2bmzfpOr/fLwlC4o5GwCUGcVC53W4wxjBw4ECoqso9I0+dOoXo6GikpaVxMtE0DceOHQNjDJGRkXjwwQdhs9kwc+ZMLv4nJycDAM6ePYshQ4YgKioKERERaN68OY4dOwYA2LNnD6KjoxEbG4t7771XV7erV6/i9ddfR82aNREcHIyWLVviyJEjcLvdUBQFjDEsX74cTqdTJz3Qs0hI3Km4LcpHkgBomSDOtqSDoPW/z+fjv4vreDpGywCn06lb84sDlZYoJJV4PB5uJgX0fgwulwt+v1/nDelyuWC321GzZk3s3buXH9c0TaczkZC4UxFwiUH0ZTAeM5oERe9GUvrZbDZOCgUFBdA0TUcsLpfLNKgB8LgK40wv1sNopaDrAGD48OE4fPgwr4t4D5FkJCTuRNwWHUN+fj6fvWlmN7oeizO+6HlI54lkoGka8vPzdccompLKUVVVV45IAuIgv3z5Mr9GJBGSMuh+BEVRTIFhEhJ3GgIuMYiDyuPxmKQEceZ1OBy62AdjgBN9pwFPZYtShKZpOhOjUSqg89xuNycusU6iTgQoIhFN03SEImMpJO5klPlELb+Xg4FIRIy7MOo6/uoQ9S0Ug0ISERGwSJZGvw5N03T5LUrTWkMTgXhPkuoCIbVRmcY4m0CBJjZxgiKlfHF5Rfx+/22J5SnzxEDQNE1nKTF6PlLoNnDnSAvU6cQoVb/fzxWyQNFAFImQzqGBpKqqLleGoijFBrrdKvLz83VLxNIctEZiEwkwJyen1O5THIxKdmo/cskXpWSjFcwo2ZY2yjQxuFwu7gh1I4gZpe4Uy0RxkpJIfMZkOuJMLUoHTqcz4ITp9XoDeg+fz3dbXeGNOjJRGhW9f+k9WenbAoUyTQxGkMQgppuz2+26mA+j+HcnwO12Izc31/I5VVXl5EAdU1VVTo5W/hxWfh9/tF6apnE9EdXP7/eXSvlAIcmrqqrL5lVa0s6NYLTUUR2MRACYySDQJCyJ4f/D6/Wa9AY+nw8ZGRmoXLkyEhMTcfbsWfh8vjtmKWG323XrV8q0lZaWBlVVdanxxPW+KGmInVu8pjQQFhaG8PBwpKWl6VzSS7v9d+zYweNrfvnlFwC3T4ckWr6MuoRt27ahXr16YIzxoEMx50ggUaaJwel0cvHR2KE9Hg8WL16MRo0a4eTJkxgxYgSaNWsGoPCl3SnLCYLL5cLatWsRFBSECxcucInh2LFjiI6OxnfffQegsAP7/X5TXkxVVflgys3NLRVxd/369QgLC8O5c+d0x30+X6kp4Mi5LSkpCQkJCaVS5q3e3woZGRlgjOH48ePYuXMnWrZsyX+7HaRVponBanbz+/24du0aTpw4gaSkJDgcDi7Kbty4Ef369dOtu+8EkDXhhx9+QN26dbkPh9/vx6FDhxAUFIT9+/fr9CwiCgoKdMuMgQMH4pNPPilxvXbt2oVatWrplHOlKZGIStdJkybhueeeA3B71vAijM907do1dO/eHcOGDbNcuno8noC75JdpYqBG9/l8cLvdpgzUoqbeqCi6UxK5iGL5+PHj8dJLL+lcyinKVVSGkdXC2CZAYWxK9erVsXr16hLXbebMmejdu7cuzb/X6y01chCtAG3btsXs2bP5b7djuUjtSUmJyEpy9OhRMMbw5Zdf8t8B3NaUg2WaGAC9WEbLg+TkZMTHxyMxMZEr5fbu3QvGGJo2bco7pzhL0sC4Vc9Io1nQ5/Nh2LBhCA4OxuDBg3H16lUMGTIEYWFhSExM5IOjZcuWKF++PNasWYPDhw/jkUceQWhoKHbs2MEH0tGjR/HUU0+BMYawsDBMnDgRQJHCcN26dWjYsCGioqLwr3/9C61bt8asWbMAFHZaSqU3evRofozKfeGFFxAUFIRy5cqhfv36cLlcmDp1KiIjI/n9wsPDMWrUKP58p06d4vUJDg7GxIkTdQ5pq1evxqOPPoqwsDC0atUKLVq0wPz583lb+Xw+nZnuyy+/RGxsLB577DEAhT4Zbdq0QVRUFFauXAmgUI+SkZGBpk2bgjGGevXqYdasWRg5ciR/fzabDVFRUTh06BA0TcPx48fRuHFjVKhQAQcOHODvetKkSfxehO3bt+PFF1/kOUE++ugj3q/EfkBtt379ejz00ENgjKFy5coYPny47rxx48ZxXQ/lC6F4HTGeiP6PHDkSjDEMHjyYlzF58mSEhYVh1KhRXNIwevHeyKW/zBMDUDg4SRNNEZfp6elgjCEzMxNAoT29Xbt2GDdunOl60UmIBvqtLDdooPr9fqxcuRJpaWkYPXo0nn32WQwaNAi7d+/GgQMHEBkZiczMTLz77rv48ccfkZiYiN69e2PYsGG4fPky4uLi4Ha74ff7kZWVhYoVK/JZcObMmWCM6QZhuXLl8MUXXwAAvvvuO4SEhPDs3CQxxcbGIjU1lXeskydPIiEhAf3798e5c+ewdu1aPP744/xZFi9ejDp16pie8fvvv0dcXBymT58OAJg2bRrPs6EoClavXg3GGKZMmQIASE9PR0REBLZv3265fDl27BiWLVuG6dOno0aNGlBVFVOnTsWePXvQvn17pKam8ueKiorC2LFjoWkatm3bhpCQEP67qqo85we1Tdu2baFpGkJCQrBr1y5+z06dOuHVV1/l33fu3ImIiAgsWbIEAPDZZ5/pcocARYPY4XBg+fLlYIzxJEXff/89GGNcf0ODdcmSJahRowYAfeJjkiioj61evRpr1qzB6NGjER4erpPoGGPYsmWLqR43G+NTpolBbGSgaDDTILj33nv5jGe329G0aVPYbDYdEYgEQDkjNE1DRESEjvmt/saPH89JgdbvJDm8+eabaNy4MQ8sczqdYIxh//79fBaoV68eunXrpgtKo45Uu3ZtTgobN25E3bp18d577/H6ValShT+bpmnIzMxEtWrVoKoqd+45fvw4KlasiCtXrnBz2ttvv402bdpYKsA8Hg/eeecdvPHGGzrrgcPhwF133cVn/w0bNiAxMREDBgzgEkBCQgKSkpJ459+0aROqVq2qK99K4Tt69Gg0a9ZM57reoUMHXLt2DUChpWXq1Kn8/MOHDyM8PFyn3R81ahS6deumi9/58ccfwRjDjz/+CAA8DD8jI4OL/bVr18a8efPg9/uxbt06JCYmol+/fvwdGM2P9913H5/ZKWt5lSpVMG7cON2A7d+/P5o1a8Y9IG02m06iJJCkevLkSYSEhCArKwu5ubk4e/YsevXqpYtDulXnvDJNDIA+BkNsNJfLhe7du6NPnz7weDzYuHEjUlJSeOfJy8vjjS06/uTk5Pyh9Sm9eBqArVu3RnJyMlwuF/Lz83H58mXdfhs///wzgoODceLECe6JSPXZsWMHIiIiEBoaCsYY2rdvj2+++YbrRjZt2qTr9ACwcOFCdOrUSbe0+fLLL9G8eXOTSXPp0qW6ehNR2e12VKlShUshhD179nAyjI6ORpcuXfDZZ58BKBzIpIG/cuUKLyclJQWtW7c2eVGKywm32422bdvq0gRu3rwZw4YNAwBs2rQJFStWxMGDB/nvn332GR5++GFeltPpRLt27TBmzBh+jqZpmDlzJjcRapqGtLQ0hISEwG63Izc3F/v37+fPEx4ejs6dO2Pu3Lm8XKPOauPGjWCM4eeff+bPc+HCBU42Yp+56667MGfOHEtfDafTqfMzoYkjPj4eH3/8MQDg9ddfx/79+3XviHCzFo0yTQyapvF1m6j1PXPmDABg3rx5ePDBB3HhwgW89tprpv0oxBdPmZ1uFcY1IFCYeCYoKIjnrwCAvn37olq1any2WrJkCeLi4uDxePhMSuv1qVOngjFmyl1B2/zNmTOHi7w+nw+XLl1C5cqVMXbsWF3dXnvtNYwYMYKXnZmZqVteGT3zfvrpJxPhXLlyBbNmzUJMTAyAwpwcdB21/fTp0xEcHMw7+ZUrV5CQkIDJkyfzcux2u046ozLCwsKwbNkyAIUE9MILL/Bzxo8fz1P6+Xw+5OXl8VlelD5iYmKQnp4OoMjVuE+fPnjrrbf4vR5//HE0a9aM15nEd5I8XC6XKWBPdAT7/PPPdcsMRVEwbtw4VKlShR/zeDz4/vvvER4ezpcBJHlZZQ0TPSG7d++O//znP9i/fz8nXbqPeJ2on/g9lGliENnT6XSa1rLbt29HUFAQhgwZgpMnTwIo0tTTC7fyknM6nTdtThKVb36/H263G4sXLwZjDHv27AFQOHAiIiK4Esrv9+PNN9/UaewJDocD6enpiIqKwtGjR6GqKnbv3o2nnnqKP8PMmTMRHR2NvXv34uzZsxg1ahSee+45pKWlYc6cOdizZw88Hg/q1q2LpKQkrvdwOp0ICwvD/PnzceXKFezatQtvvfUWb4MdO3bwFHqZmZl47bXXAIA/D9X/yJEjaNGiBU6fPg2v18t3Kjtz5gyOHTuGjz76CB07dsSCBQuQlpaG77//XkcKogQTExODrKwsLFu2DK1bt+YDNTc3F9988w0YYzhy5AguXbqE119/HU8++STmz5+P5cuXY/Xq1TxL2M6dO/Hqq69y6atWrVp47733cP78eYwcORIjRozAP//5Txw5cgTz58/HmjVrEBERgUOHDkFVVWzduhW9e/fGwYMHdZ6zLpcLbrcbe/fuRUxMDDZv3gy32405c+YgKioKKSkpuj40btw4REdHW8ZIUD8hiUTsbx9//DGaNWuGTp068euM5l1xW4QbuX6XaWIg5Obm8o53/fp1zrKKoiAiIoKvja122Kbv4ou6WTt4cYqgQYMG4ZlnnsEDDzwAxhgeeughbNmyRXePGjVqYMaMGfxFi9KM2+3Ge++9x60GjRs3xsaNG+F2u+F0OpGTk4NOnTqBMYZ33nkHV65cwfvvv4/o6Ghs2rSJl0nadpIa8vPzsXTpUlStWhWxsbHo0aMH317Q7XbjzJkzSEhIQGRkJFq2bMkJBgDef/99BAcHIywsDI0aNcJ3332n23e0Y8eOfP+Qs2fPYtiwYTq9BD0jmU3pfUVGRuL+++/HzJkzdXoGKrdly5YICwtDv379UFBQgMGDB6Nq1ao8LeDFixdRp04d3HvvvVi5ciUfpBMmTABjDD179kRWVha2bNmCsLAwDB48mIvmQ4cO5RnG27Zti9TUVJOznPiOR4wYgcjISFSpUgUNGjRAWlqa7r3bbDa8+uqreOSRR/hziAF9xuhX0SM1Ozsb0dHROmlNhEgSNxMPUqaJQVEU/pKtBvuKFSvQt29f3XFq4OLCX281EIeWEhTl6PP5UL9+/WL9AHw+n2m/TnF9KtZJnGGMoMFPnY2+i7oKsVMac1eIJGWMfLS6X3Fp+Mi5yio4yxjiLubfECHO0KSwUxSFk4fYZuIzWLWflbhObWpsM6MfgrHOxsFoJQUY9Sc1a9bEtGnTdM9tjMsR60jnvPLKK/j66695e4ptJZrTxef+PZRpYgAKG5YaWkwAs3DhQvTp0weAnm2NSqWSwqgtPnHihG4df6eDrDHiwL1dQUzi/QGz45q4Mztg1qmUFKKDlcvlQnJyMmJiYni8xo1AwWQDBgzAggULAFiT3R9BmSYGIxNrmoaRI0eiZs2aXLMNFDayx+PRieulEZ7rdrt1s6HT6cS3336L6OhovPzyyyUu//86rLTu1KFvh+ehMWgJKFqSiZIT/S5KVaUBUQHarl073H///VxSvBkvx+bNm+Oee+7B1q1bARSmKSSUNCdpmSYGQJ/wgsQuMTmJGI5M+L3dsm8V5EtBUouqqqVa/l8FJF7TYLxdbeBwOEyDUHSFz8vLg91uL1b8LykoahQwpw+8GZw/fx5AYb+xSjjzR1HmiQHQi3Q0QMWXT/ECpQ1FUXRpvADzOvZOhpi23yprVqAhDkJFUVBQUFBsHAxtKVCaMGZLF/vYrUhMDofDFLcilxIlAHUMSh8G6F8OOZOICjcxmWxpwePxwOfzoaCgQJcwpKxAdNgBoPP0CyTExDR0P9HRDCjsG1ZLh9JaTpCSUnzem312cVsDkhjEYLeSoEwTg8isYrp50QxEoAY3miZLguKkkDspO9TNQHwHt5sQjRIbUJQMhepC0lugJEerQL5bhUgmpZErpEwTgwijIhAoIg6v12sS7UujgxDBGC0dd0qGqBuB3KQpElLTNOTl5XEno0BDJATyDN27dy9atWqFsLAwhISE6GIqjL4iJYVoESNztdG0eDP1F/NV0ORW0vqVeWKwUvhs2LABjDGEhIRwB5bw8HAwxtCuXbtSXwuLHmllabPczMxMhIeH48SJE7o2vR3LCACmNrfb7YiNjcWiRYtw7do1VKhQQfc7obSzd1lNBH+0H5SWxFXmicEIKwcl8bvxhYkJSgF9CLUI4/4AVvt3itcbXzAtY8R9FcQBZHREIsWmGCQmRpOKdaGyjQRpTLoqau/FlO7i5kCiQ4/oZGO1jeCOHTsQGhqqq4eoxzHO6ASKnDTWyWpZYNWONCuLz5aXl4dPP/0UCQkJOgcvuobOFe8nzsqiYvJOsCqVaWIweqWJg5k6GXVoMT4C0ItvYkcQB7xx5rMSXY3l0W9iOTdSSJI/PmD2yiO43W5uxjJu10fBVfTdSGLiYDAuqXJzc3XBWuKySMy4bCQORVEwdepU9O/fX9fGBBpoopVGbC+Xy6VrX3omMVktvS9j+LPD4eDtc+XKFU4SdevWxSuvvMLbC7Ae5FZxNQQrz9C/IiQxGOD1ejF69GieuYhe8OTJkxEcHIwPPviAd2BRLyEOZHFGA6CzNtA9xPvT/d577z1cuXIF3bp1A2MMzz33HFwuF8aNG4eoqCjcddddOHHiBC5dusTTuu/duxe9evVCcHAwGGOYPXu2bgBt2LABDz74IKKiolC/fn3MmzcPEydOhNvtRkpKCuLi4tCuXTsoioIPP/wQjDH8/e9/x9mzZwEUWWaoHXJyctC2bVswxvDVV18BAJYvX47w8HC0atWKD4wzZ85g2LBhiIyM5NmoOnXqpNvIpV27dpg7dy5vrxdeeAGMMaxYsYKfs2vXLjDG+HXUdhMnTsQ999yDuLg4xMXF4erVq5aeiT6fDwcPHsTzzz/PdRrPPvusLg/GiRMnePvR39y5c3XtKGbs+uabb1ChQgXcd999AApJac+ePQgPD8fDDz98R1iUyjQxAIUzD82I+fn5yMjIwLx58/Dpp5+asvFQPgRFUXSd5urVq7pZxLgPA6CfwUWvukWLFmHp0qVISkpCly5d0LdvX1y8eBFbt25FaGgoJk2ahC1btuDQoUOIjIzUxdlv2LABCQkJWLx4MQoKCpCSksIz+fh8PqxatQpRUVH4/PPP4ff7sXv3bjDGkJqait9++w0DBgzgEZHTpk3Dzp074fF4wBjD5s2bTcsmp9PJ8wRQXoYzZ87gP//5DzIzM9GgQQMubbRo0QIPPPAAz/D89NNP8zwIQCGpRkVF8XDnvn374uDBg+jSpQvGjRvHB/eECRP4dfSeEhMT0alTJ5w6dQoXLlxAtWrVMGnSJF3ZhKNHj6J8+fIYMmQIzp07h5ycHNSuXZsnraFNbH788UcEBQXh1KlTAMxLRpK2Tp8+jTfffBMbN25ETEyMLktSs2bNMGPGDNP7/iuizBMDwThwz549yzMmXbp0CWfPnsVLL70EwJzQBQCioqK4gjIyMpIrLSmTU0REBEaMGKEzfYkYOHAg7r77bl5ecnIyGGPIysqCpmkoKCgAY4yHTiuKgkaNGmHGjBk8tPpvf/ubzpW6YsWKPM8jUBhGHhoaioKCAi5mL1iwAHFxcVi3bh2AwpmeMYZr167pHL9EP4+cnBwEBQVh7969fLCmpqbyZCfLli1DSEgIdxhTFAW9e/fG0KFDuaRDCU+pfMJ9992HxYsX8+8dOnTA+++/ryPSevXqIT8/H+fPn8fcuXNRsWJFHD9+3FLs79GjBxo0aMDrDgAdO3ZEq1atdOd9+eWXvD50r+K2xSPSSkhI4JGnNpsNzZo107lU/5VRpolBURTYbDbTWp8Gfo0aNXhasJdffhnHjx/XrbHFmHtR+WTcyxGw1rTb7XbeyWrWrImFCxfyciZOnIjnn3+en5uSkoJ69erx7zTT01/nzp15Kjefz4ft27ejUqVKOHbsGBfV58+fj0cffVRXhzfeeANdunTh35cvX46KFSvy72SuEwcv3RsoIsnOnTvzQZGYmIhBgwbxWVZVVURFRWHbtm28jKSkJCQmJvK2cblcPK8l1ffcuXOoUKGCbmnRsmVL/sw1a9ZEnz59cOjQIf47ER65mYeHh2PJkiXc8uNwOFC/fn1MnTpVpygePHgwunTpwp3NiBxET1h6Hkrh1717d7z88svIz8/H+vXrsWzZMp2+56+MMk0MIihXAcHn8+Hpp5/G0KFDcfjwYUyePFk3OMTYeKMW2xj6bNytWSQRyqAkZj66du0aHnroIYwfP56X3b17d56I1m63Y8yYMVyjL66pieTEZKtU38qVK+OTTz7h+yl4vV5UrlyZi78+nw/9+vXj96GBQPtMEMaPH49GjRoBKNQ59O/fny9DNE3jeRapXgsWLEBoaKgujLhDhw6YOXOmbhB99tlnaNq0KQDwTWAYYzyzU15eHqpWrYpp06aZsjCLbsHU3pTkdfPmzfxc0llQHgk6zhjjGZ5FGBPEUPvSsqpp06a4evUq+vXrd8dsKQBIYtCJyQTqLJ988gkSExPRo0cPnZKRBqtRhyBmY7JK9SbeR4zhX7x4MapXr8799SnL744dO/j5lSpVwuLFi5GcnIzs7Gyet5GyIu3cuRPt27fHr7/+yssMCwtDdnY2zp8/j2HDhqFz585YtGgRVq9ejfT0dPz888+Ijo7GsWPHeH0pOemSJUuQnZ3NBwYN4IKCAsyePRv/+Mc/cPr0afTs2RNff/01r6fD4UDjxo3RuXNnAIWk8NFHH6FGjRrweDx49913oSgKatSogY8++gipqalYvXo1fD4f3nrrLTRs2BB+vx/z589HUlISYmJikJuby6Nd//a3v/EsRTk5OUhKSsLQoUP5/UlioLaNiorC9OnToaoqtmzZgrvuugsDBgzQvbcffvgBwcHB2L9/P99Dw6hApHJFi1FGRgYiIiLw73//m7c7SYZyKfEXhjhQjclDFEXBzp07+d4Cv3dtSTFw4ED07t2bd6pvv/0WQUFBAIp8Dzp16oSoqCgsW7aMnzdw4EBUrVoVjDE0a9YMa9eu5R26oKAA3bt3B2MMgwYNgt1ux2uvvYZq1arx7EVffPEFEhISuIlR0zT06dMHjDGeWNTK0SYlJQWhoaHo0aMHT68u6mgWLlyIKlWqoGbNmsjMzMTp06dRtWpVtG7dGhcvXgQAdOvWjStXqe1XrFiB6tWro1atWli/fj1+/vlnVKpUCa1bt+a6lczMTNSpUwfR0dGoWLEihg0bxiMMATMhL126FA0bNgRjDPfffz+mTp2qC09WVZWnuisuaaoxlkPsK7TXp/G3v7r0UKaJwSruQewQb775Js+ILDoWlRbE8G6SNGimoY4omj5FRyWxHmIeP9q+TAzDJSmHrBW/9xzGDXNEYrh+/bopfoDKcrlcJomIng2Ari5WzyPOsOI7ERWKoo+G0+lEfn6+Ls2ZcZZ2uVzFPqfYPs8++yy6du0KAKaErsbyxGXh5MmTMWTIEO4DI/adv7rJskwTAwCdgow61oULF9C/f38kJyebZg5jirOSgsiBwn3FmYnEWtJTiB3fbrf/rqONSB5iFiLjOUAR+VhJB2J6eCP8fj/sdrtpX8XiYj3oOCl4yTPT+LsRolPUzcKK8O12u+ke2dnZYIzhm2++0d3PKi+E6OA2Z84cjB8/nmfyFh27AhFodbtRponByjkpMTER1apVw/bt2wEUzlLirEczb2kQgzFE1pg0xmqgFjdISeoQ9R+aVrhZCZUjzuokGRhzDGiahtzc3GLJhDIUWyUUMZIUWQbE9TlgdiU2Dlaql2j1IRBZ2u12OBwO3WYqdC29G4qStXJzd7vdGDVqFMqXL899IFwul8mpCdBblN5++21Uq1YNY8eO1aWOJxiXHX9VlGliEGH0rKPOZUUepWmOIldrceYUw49pYIn1EhWcxcV2WCVMJVjFFFCZoiuyOGDJkmGVEMToSk4WA7qeiFRsN2NCFNL4G/fqEH8nacQqDsUqA7KxTY0mZIJIyMaIVzHAjeokEoEx8apVf/krokwTg9fr1W3qAhTNDjTbEsgEafT5Lw0YMy5b5T00xlKISxpjfkLapMRqZ2gxezKJzKJ51ZjmTEwAIp5jnMXFoC0Rxo1SRHKxyjRN9xTjL4xkQPW3IiugaBllVRdjTAxNCL/99pvuvmJZ9N8qZZoYtEb3uBNQpolBhLiWNCbkEAeBuD1aSSF2fvIrIFhFBZJi0Zg3giDuFykeAwpJRhz0eXl5ptmZFG/GmVZEce1irGtBQYFJujBGdFp9drvdlm1rJCOr2Z8IqrilRXHPYSQW6gvUXmIZtNSia4y7lZdmIp8/E2WaGGiwiQ5Kxpm5uLV2acAYRWnsiDQDW4mlxgEgQvSnsMo2LHZcqy3y6LnFWdc4wKzIidrPGIpu3AfDGDlqNXBp4BtJWjy3uGWD8R50rlU+R6P+SEz3ZizHSgIp7p5/dT1DmSYGCQkJa0hikJCQMEESg4SEhAmSGCQkJEyQxCAhIWGCJAYJCQkTJDFISEiYIIlBQkLChP8HaUnqDfxX5GIAAAAASUVORK5CYII=)"
   ]
  },
  {
   "cell_type": "code",
   "execution_count": 16,
   "id": "13d339e2-c89e-467e-9aa6-5119e63d48b7",
   "metadata": {},
   "outputs": [
    {
     "name": "stdout",
     "output_type": "stream",
     "text": [
      "Mean absolute error: 66.73\n",
      "Residual sum of squares (MSE): 7026.25\n",
      "R2-score: 0.78\n"
     ]
    }
   ],
   "source": [
    "from sklearn.metrics import r2_score\n",
    "\n",
    "test_x = np.asanyarray(mydf[['ratio']])\n",
    "test_y = np.asanyarray(mydf[['New_deaths']])\n",
    "test_y_ = regr.predict(test_x)\n",
    "\n",
    "print(\"Mean absolute error: %.2f\" % np.mean(np.absolute(test_y_ - test_y)))\n",
    "print(\"Residual sum of squares (MSE): %.2f\" % np.mean((test_y_ - test_y) ** 2))\n",
    "print(\"R2-score: %.2f\" % r2_score(test_y , test_y_) )"
   ]
  },
  {
   "cell_type": "markdown",
   "id": "ae288d43-db67-446c-b093-13f056380e48",
   "metadata": {},
   "source": [
    " the **R²** value of our model is **0.78**. This statement means that our model explains 78% of the variance of the data corresponding to the number of articles. It is close to 1 so we can say this is a **good model**.\n",
    "\n",
    "---\n",
    "\n",
    "### Now let's apply simple linear regression to **Portugal**  data and see the result. "
   ]
  },
  {
   "cell_type": "code",
   "execution_count": 17,
   "id": "a48fcf9c-6cfe-4066-991d-fe38e0b0f9fe",
   "metadata": {},
   "outputs": [
    {
     "name": "stdout",
     "output_type": "stream",
     "text": [
      "Coefficients:  [[-1.14221336]]\n",
      "Intercept:  [78.7351537]\n"
     ]
    },
    {
     "data": {
      "image/png": "[encoded data removed]",
      "text/plain": [
       "<Figure size 432x288 with 1 Axes>"
      ]
     },
     "metadata": {
      "needs_background": "light"
     },
     "output_type": "display_data"
    },
    {
     "name": "stdout",
     "output_type": "stream",
     "text": [
      "Mean absolute error: 44.99\n",
      "Residual sum of squares (MSE): 3593.70\n",
      "R2-score: 0.24\n"
     ]
    }
   ],
   "source": [
    "mydf = df[df.country == \"Portugal\"]\n",
    "\n",
    "regr = linear_model.LinearRegression()\n",
    "train_x = np.asanyarray(mydf[['ratio']])\n",
    "train_y = np.asanyarray(mydf[['New_deaths']])\n",
    "regr.fit (train_x, train_y)\n",
    "# The coefficients\n",
    "print ('Coefficients: ', regr.coef_)\n",
    "print ('Intercept: ',regr.intercept_)\n",
    "\n",
    "\n",
    "plt.scatter(mydf.ratio, mydf.New_deaths,  color='orange')\n",
    "plt.plot(train_x, regr.coef_[0][0]*train_x + regr.intercept_[0], color='red')\n",
    "plt.xlabel(\"Vaccination rate (%) \")\n",
    "plt.ylabel(\"New deaths\")\n",
    "plt.show()\n",
    "\n",
    "test_x = np.asanyarray(mydf[['ratio']])\n",
    "test_y = np.asanyarray(mydf[['New_deaths']])\n",
    "test_y_ = regr.predict(test_x)\n",
    "\n",
    "print(\"Mean absolute error: %.2f\" % np.mean(np.absolute(test_y_ - test_y)))\n",
    "print(\"Residual sum of squares (MSE): %.2f\" % np.mean((test_y_ - test_y) ** 2))\n",
    "print(\"R2-score: %.2f\" % r2_score(test_y , test_y_) )"
   ]
  },
  {
   "cell_type": "markdown",
   "id": "cfe494cd-abf8-4158-84ed-6e8f552b2153",
   "metadata": {},
   "source": [
    "As you can see, R2-score: 0.24 and this Simple Linear Regression is not a good model.R square can have a negative value when the model selected does not follow the trend of the data, therefore leading to a worse fit than the horizontal line. Although the negative slope still shows the good effect of vaccination in reducing mortality, but our model is not a good enough.  \n",
    "This may be a good reason to go back from the evaluation stage to the modeling stage and build a new model to be more consistent with our data. as you know the final stages of the data science methodology are an iterative cycle between Modelling, Evaluation, Deployment, and Feedback.\n",
    "So, perhaps it's preferable to return to the same dataset in the following notebook and try to build a better model during the modeling step. \n",
    "\n",
    "Thank you so much for taking the time to read this notebook.\n",
    "Please leave a comment if you wish. \n",
    "\n",
    "To be continued! "
   ]
  },
  {
   "cell_type": "markdown",
   "id": "39bb58f5-54d5-4b66-866d-331f059677e5",
   "metadata": {},
   "source": [
    "## Author\n",
    "\n",
    "Sina Karaji ( [Linkdin](https://ir.linkedin.com/in/sina-karaji-81829279) | [Github](https://github.com/siniorone))\n",
    "\n",
    "\n",
    "## Change Log\n",
    "\n",
    "| Date (YYYY-MM-DD) |  Changed By    | Change Description                 |\n",
    "| ----------------- |  ------------- | ---------------------------------- |\n",
    "| 2021-10-04        |  Sina Karaji | Created and uploaded            |\n"
   ]
  }
 ],
 "metadata": {
  "kernelspec": {
   "display_name": "Python 3 (ipykernel)",
   "language": "python",
   "name": "python3"
  },
  "language_info": {
   "codemirror_mode": {
    "name": "ipython",
    "version": 3
   },
   "file_extension": ".py",
   "mimetype": "text/x-python",
   "name": "python",
   "nbconvert_exporter": "python",
   "pygments_lexer": "ipython3",
   "version": "3.9.7"
  }
 },
 "nbformat": 4,
 "nbformat_minor": 5
}
